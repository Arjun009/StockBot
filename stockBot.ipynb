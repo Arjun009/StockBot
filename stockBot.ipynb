{
  "nbformat": 4,
  "nbformat_minor": 0,
  "metadata": {
    "colab": {
      "name": "StockBot_MG_2.ipynb",
      "provenance": []
    },
    "kernelspec": {
      "name": "python3",
      "display_name": "Python 3"
    }
  },
  "cells": [
    {
      "cell_type": "code",
      "metadata": {
        "id": "VZPi2ZHHZLw9",
        "outputId": "50f8cb65-c432-4f31-d44d-1f036b54833a",
        "colab": {
          "base_uri": "https://localhost:8080/",
          "height": 101
        }
      },
      "source": [
        "!git clone https://github.com/jonbakerfish/TweetScraper.git"
      ],
      "execution_count": null,
      "outputs": [
        {
          "output_type": "stream",
          "text": [
            "Cloning into 'TweetScraper'...\n",
            "remote: Enumerating objects: 256, done.\u001b[K\n",
            "remote: Total 256 (delta 0), reused 0 (delta 0), pack-reused 256\u001b[K\n",
            "Receiving objects: 100% (256/256), 52.53 KiB | 318.00 KiB/s, done.\n",
            "Resolving deltas: 100% (141/141), done.\n"
          ],
          "name": "stdout"
        }
      ]
    },
    {
      "cell_type": "code",
      "metadata": {
        "id": "YWGg532IZ1sb",
        "outputId": "bbbf4c09-7733-4612-a4b1-b988d7364590",
        "colab": {
          "base_uri": "https://localhost:8080/",
          "height": 34
        }
      },
      "source": [
        "%cd '/content/TweetScraper'"
      ],
      "execution_count": null,
      "outputs": [
        {
          "output_type": "stream",
          "text": [
            "/content/TweetScraper\n"
          ],
          "name": "stdout"
        }
      ]
    },
    {
      "cell_type": "code",
      "metadata": {
        "id": "I_Cgk_N6ZWhx",
        "outputId": "dfc2a6c1-6f65-4aad-d554-1bffc12da589",
        "colab": {
          "base_uri": "https://localhost:8080/",
          "height": 34
        }
      },
      "source": [
        "!ls"
      ],
      "execution_count": null,
      "outputs": [
        {
          "output_type": "stream",
          "text": [
            "LICENSE  README.md  requirements.txt  scrapy.cfg  TweetScraper\n"
          ],
          "name": "stdout"
        }
      ]
    },
    {
      "cell_type": "code",
      "metadata": {
        "id": "KgAQTPJ_ZSCp",
        "outputId": "c73bd9ed-7ec0-42dd-c771-8f5027bfef51",
        "colab": {
          "base_uri": "https://localhost:8080/",
          "height": 1000
        }
      },
      "source": [
        "!pip install -r 'requirements.txt' "
      ],
      "execution_count": null,
      "outputs": [
        {
          "output_type": "stream",
          "text": [
            "Collecting scrapy\n",
            "\u001b[?25l  Downloading https://files.pythonhosted.org/packages/58/59/a942878de3fb03481207a32bea488d7c3bd6bd8deecdbf90b6746dfa2da0/Scrapy-2.3.0-py2.py3-none-any.whl (237kB)\n",
            "\u001b[K     |████████████████████████████████| 245kB 5.0MB/s \n",
            "\u001b[?25hRequirement already satisfied: pymongo in /usr/local/lib/python3.6/dist-packages (from -r requirements.txt (line 2)) (3.11.0)\n",
            "Collecting mysql-connector\n",
            "\u001b[?25l  Downloading https://files.pythonhosted.org/packages/28/04/e40098f3730e75bbe36a338926f566ea803550a34fb50535499f4fc4787a/mysql-connector-2.2.9.tar.gz (11.9MB)\n",
            "\u001b[K     |████████████████████████████████| 11.9MB 9.0MB/s \n",
            "\u001b[?25hCollecting configparser\n",
            "  Downloading https://files.pythonhosted.org/packages/4b/6b/01baa293090240cf0562cc5eccb69c6f5006282127f2b846fad011305c79/configparser-5.0.0-py3-none-any.whl\n",
            "Collecting Twisted>=17.9.0\n",
            "\u001b[?25l  Downloading https://files.pythonhosted.org/packages/b7/04/1a664c9e5ec0224a1c1a154ddecaa4dc7b8967521bba225efcc41a03d5f3/Twisted-20.3.0-cp36-cp36m-manylinux1_x86_64.whl (3.1MB)\n",
            "\u001b[K     |████████████████████████████████| 3.1MB 43.9MB/s \n",
            "\u001b[?25hRequirement already satisfied: lxml>=3.5.0; platform_python_implementation == \"CPython\" in /usr/local/lib/python3.6/dist-packages (from scrapy->-r requirements.txt (line 1)) (4.2.6)\n",
            "Collecting w3lib>=1.17.0\n",
            "  Downloading https://files.pythonhosted.org/packages/a3/59/b6b14521090e7f42669cafdb84b0ab89301a42f1f1a82fcf5856661ea3a7/w3lib-1.22.0-py2.py3-none-any.whl\n",
            "Collecting itemloaders>=1.0.1\n",
            "  Downloading https://files.pythonhosted.org/packages/b9/c5/bd4d083c6d5368885cb8d10ea8355d38a958a57e5bc73945fc3905a7e1ca/itemloaders-1.0.3-py3-none-any.whl\n",
            "Collecting queuelib>=1.4.2\n",
            "  Downloading https://files.pythonhosted.org/packages/4c/85/ae64e9145f39dd6d14f8af3fa809a270ef3729f3b90b3c0cf5aa242ab0d4/queuelib-1.5.0-py2.py3-none-any.whl\n",
            "Collecting cryptography>=2.0\n",
            "\u001b[?25l  Downloading https://files.pythonhosted.org/packages/c0/9c/647e559a6e8be493dc2a7a5d15d26cb501ca60ec299b356f23839a673a83/cryptography-3.1-cp35-abi3-manylinux2010_x86_64.whl (2.6MB)\n",
            "\u001b[K     |████████████████████████████████| 2.6MB 42.3MB/s \n",
            "\u001b[?25hCollecting zope.interface>=4.1.3\n",
            "\u001b[?25l  Downloading https://files.pythonhosted.org/packages/57/33/565274c28a11af60b7cfc0519d46bde4125fcd7d32ebc0a81b480d0e8da6/zope.interface-5.1.0-cp36-cp36m-manylinux2010_x86_64.whl (234kB)\n",
            "\u001b[K     |████████████████████████████████| 235kB 46.6MB/s \n",
            "\u001b[?25hCollecting pyOpenSSL>=16.2.0\n",
            "\u001b[?25l  Downloading https://files.pythonhosted.org/packages/9e/de/f8342b68fa9e981d348039954657bdf681b2ab93de27443be51865ffa310/pyOpenSSL-19.1.0-py2.py3-none-any.whl (53kB)\n",
            "\u001b[K     |████████████████████████████████| 61kB 7.5MB/s \n",
            "\u001b[?25hCollecting itemadapter>=0.1.0\n",
            "  Downloading https://files.pythonhosted.org/packages/7d/fb/92f848fcfa85dc9f95370eaecb5c99b5230dd4fc5c6bae684f4ca59df973/itemadapter-0.1.0-py3-none-any.whl\n",
            "Collecting service-identity>=16.0.0\n",
            "  Downloading https://files.pythonhosted.org/packages/e9/7c/2195b890023e098f9618d43ebc337d83c8b38d414326685339eb024db2f6/service_identity-18.1.0-py2.py3-none-any.whl\n",
            "Collecting cssselect>=0.9.1\n",
            "  Downloading https://files.pythonhosted.org/packages/3b/d4/3b5c17f00cce85b9a1e6f91096e1cc8e8ede2e1be8e96b87ce1ed09e92c5/cssselect-1.1.0-py2.py3-none-any.whl\n",
            "Collecting parsel>=1.5.0\n",
            "  Downloading https://files.pythonhosted.org/packages/23/1e/9b39d64cbab79d4362cdd7be7f5e9623d45c4a53b3f7522cd8210df52d8e/parsel-1.6.0-py2.py3-none-any.whl\n",
            "Collecting protego>=0.1.15\n",
            "\u001b[?25l  Downloading https://files.pythonhosted.org/packages/db/6e/bf6d5e4d7cf233b785719aaec2c38f027b9c2ed980a0015ec1a1cced4893/Protego-0.1.16.tar.gz (3.2MB)\n",
            "\u001b[K     |████████████████████████████████| 3.2MB 41.2MB/s \n",
            "\u001b[?25hCollecting PyDispatcher>=2.0.5\n",
            "  Downloading https://files.pythonhosted.org/packages/cd/37/39aca520918ce1935bea9c356bcbb7ed7e52ad4e31bff9b943dfc8e7115b/PyDispatcher-2.0.5.tar.gz\n",
            "Collecting Automat>=0.3.0\n",
            "  Downloading https://files.pythonhosted.org/packages/dd/83/5f6f3c1a562674d65efc320257bdc0873ec53147835aeef7762fe7585273/Automat-20.2.0-py2.py3-none-any.whl\n",
            "Requirement already satisfied: attrs>=19.2.0 in /usr/local/lib/python3.6/dist-packages (from Twisted>=17.9.0->scrapy->-r requirements.txt (line 1)) (20.2.0)\n",
            "Collecting PyHamcrest!=1.10.0,>=1.9.0\n",
            "\u001b[?25l  Downloading https://files.pythonhosted.org/packages/40/16/e54cc65891f01cb62893540f44ffd3e8dab0a22443e1b438f1a9f5574bee/PyHamcrest-2.0.2-py3-none-any.whl (52kB)\n",
            "\u001b[K     |████████████████████████████████| 61kB 6.8MB/s \n",
            "\u001b[?25hCollecting constantly>=15.1\n",
            "  Downloading https://files.pythonhosted.org/packages/b9/65/48c1909d0c0aeae6c10213340ce682db01b48ea900a7d9fce7a7910ff318/constantly-15.1.0-py2.py3-none-any.whl\n",
            "Collecting incremental>=16.10.1\n",
            "  Downloading https://files.pythonhosted.org/packages/f5/1d/c98a587dc06e107115cf4a58b49de20b19222c83d75335a192052af4c4b7/incremental-17.5.0-py2.py3-none-any.whl\n",
            "Collecting hyperlink>=17.1.1\n",
            "\u001b[?25l  Downloading https://files.pythonhosted.org/packages/88/a5/74f77547e9b175eb894d4fec5c76b0c8176c045e5bf3ac6a4d4d3feab4bb/hyperlink-20.0.1-py2.py3-none-any.whl (48kB)\n",
            "\u001b[K     |████████████████████████████████| 51kB 6.1MB/s \n",
            "\u001b[?25hRequirement already satisfied: six>=1.4.1 in /usr/local/lib/python3.6/dist-packages (from w3lib>=1.17.0->scrapy->-r requirements.txt (line 1)) (1.15.0)\n",
            "Requirement already satisfied: jmespath>=0.9.5 in /usr/local/lib/python3.6/dist-packages (from itemloaders>=1.0.1->scrapy->-r requirements.txt (line 1)) (0.10.0)\n",
            "Requirement already satisfied: cffi!=1.11.3,>=1.8 in /usr/local/lib/python3.6/dist-packages (from cryptography>=2.0->scrapy->-r requirements.txt (line 1)) (1.14.2)\n",
            "Requirement already satisfied: setuptools in /usr/local/lib/python3.6/dist-packages (from zope.interface>=4.1.3->scrapy->-r requirements.txt (line 1)) (50.3.0)\n",
            "Requirement already satisfied: pyasn1 in /usr/local/lib/python3.6/dist-packages (from service-identity>=16.0.0->scrapy->-r requirements.txt (line 1)) (0.4.8)\n",
            "Requirement already satisfied: pyasn1-modules in /usr/local/lib/python3.6/dist-packages (from service-identity>=16.0.0->scrapy->-r requirements.txt (line 1)) (0.2.8)\n",
            "Requirement already satisfied: idna>=2.5 in /usr/local/lib/python3.6/dist-packages (from hyperlink>=17.1.1->Twisted>=17.9.0->scrapy->-r requirements.txt (line 1)) (2.10)\n",
            "Requirement already satisfied: pycparser in /usr/local/lib/python3.6/dist-packages (from cffi!=1.11.3,>=1.8->cryptography>=2.0->scrapy->-r requirements.txt (line 1)) (2.20)\n",
            "Building wheels for collected packages: mysql-connector, protego, PyDispatcher\n",
            "  Building wheel for mysql-connector (setup.py) ... \u001b[?25l\u001b[?25hdone\n",
            "  Created wheel for mysql-connector: filename=mysql_connector-2.2.9-cp36-cp36m-linux_x86_64.whl size=247950 sha256=34e9474bfa4a558bd798427674a5eb0a626a26e1ba29524bb639c634d2ae6766\n",
            "  Stored in directory: /root/.cache/pip/wheels/8c/83/a1/f8b6d4bb1bd6208bbde1608bbfa7557504bed9eaf2ecf8c175\n",
            "  Building wheel for protego (setup.py) ... \u001b[?25l\u001b[?25hdone\n",
            "  Created wheel for protego: filename=Protego-0.1.16-cp36-none-any.whl size=7765 sha256=dbc003940ed99b5e2b3e5593127ed63fa0e598cbe89bcb8604dd3d26cdb8b09a\n",
            "  Stored in directory: /root/.cache/pip/wheels/51/01/d1/4a2286a976dccd025ba679acacfe37320540df0f2283ecab12\n",
            "  Building wheel for PyDispatcher (setup.py) ... \u001b[?25l\u001b[?25hdone\n",
            "  Created wheel for PyDispatcher: filename=PyDispatcher-2.0.5-cp36-none-any.whl size=11517 sha256=063af5bb2671ec13404ce9de4c89b29208aa5c31dc3d47c7ddfd5216746a1e06\n",
            "  Stored in directory: /root/.cache/pip/wheels/88/99/96/cfef6665f9cb1522ee6757ae5955feedf2fe25f1737f91fa7f\n",
            "Successfully built mysql-connector protego PyDispatcher\n",
            "Installing collected packages: Automat, PyHamcrest, zope.interface, constantly, incremental, hyperlink, Twisted, w3lib, cssselect, parsel, itemadapter, itemloaders, queuelib, cryptography, pyOpenSSL, service-identity, protego, PyDispatcher, scrapy, mysql-connector, configparser\n",
            "Successfully installed Automat-20.2.0 PyDispatcher-2.0.5 PyHamcrest-2.0.2 Twisted-20.3.0 configparser-5.0.0 constantly-15.1.0 cryptography-3.1 cssselect-1.1.0 hyperlink-20.0.1 incremental-17.5.0 itemadapter-0.1.0 itemloaders-1.0.3 mysql-connector-2.2.9 parsel-1.6.0 protego-0.1.16 pyOpenSSL-19.1.0 queuelib-1.5.0 scrapy-2.3.0 service-identity-18.1.0 w3lib-1.22.0 zope.interface-5.1.0\n"
          ],
          "name": "stdout"
        }
      ]
    },
    {
      "cell_type": "code",
      "metadata": {
        "id": "sQ7JH24TZVW2",
        "outputId": "2f9db611-ff9b-4e98-ac14-b4b896e28dee",
        "colab": {
          "base_uri": "https://localhost:8080/",
          "height": 34
        }
      },
      "source": [
        "!scrapy list"
      ],
      "execution_count": null,
      "outputs": [
        {
          "output_type": "stream",
          "text": [
            "TweetScraper\n"
          ],
          "name": "stdout"
        }
      ]
    },
    {
      "cell_type": "code",
      "metadata": {
        "id": "bxY5H3_maFzY",
        "outputId": "4d03c1dd-376e-48c6-e686-7bf35be82ce4",
        "colab": {
          "base_uri": "https://localhost:8080/",
          "height": 1000
        }
      },
      "source": [
        "!scrapy crawl TweetScraper -a query=\"#Reliance since: 2020-09-09 until: 2020-09-12\""
      ],
      "execution_count": null,
      "outputs": [
        {
          "output_type": "stream",
          "text": [
            "2020-09-16 03:15:26 [scrapy.utils.log] INFO: Scrapy 2.3.0 started (bot: TweetScraper)\n",
            "2020-09-16 03:15:26 [scrapy.utils.log] INFO: Versions: lxml 4.2.6.0, libxml2 2.9.8, cssselect 1.1.0, parsel 1.6.0, w3lib 1.22.0, Twisted 20.3.0, Python 3.6.9 (default, Jul 17 2020, 12:50:27) - [GCC 8.4.0], pyOpenSSL 19.1.0 (OpenSSL 1.1.1g  21 Apr 2020), cryptography 3.1, Platform Linux-4.19.112+-x86_64-with-Ubuntu-18.04-bionic\n",
            "2020-09-16 03:15:26 [scrapy.crawler] INFO: Overridden settings:\n",
            "{'BOT_NAME': 'TweetScraper',\n",
            " 'LOG_LEVEL': 'INFO',\n",
            " 'NEWSPIDER_MODULE': 'TweetScraper.spiders',\n",
            " 'SPIDER_MODULES': ['TweetScraper.spiders'],\n",
            " 'USER_AGENT': 'TweetScraper'}\n",
            "2020-09-16 03:15:26 [scrapy.extensions.telnet] INFO: Telnet Password: 234507b6ab3ae4af\n",
            "2020-09-16 03:15:26 [scrapy.middleware] INFO: Enabled extensions:\n",
            "['scrapy.extensions.corestats.CoreStats',\n",
            " 'scrapy.extensions.telnet.TelnetConsole',\n",
            " 'scrapy.extensions.memusage.MemoryUsage',\n",
            " 'scrapy.extensions.logstats.LogStats']\n",
            "2020-09-16 03:15:26 [scrapy.middleware] INFO: Enabled downloader middlewares:\n",
            "['scrapy.downloadermiddlewares.httpauth.HttpAuthMiddleware',\n",
            " 'scrapy.downloadermiddlewares.downloadtimeout.DownloadTimeoutMiddleware',\n",
            " 'scrapy.downloadermiddlewares.defaultheaders.DefaultHeadersMiddleware',\n",
            " 'scrapy.downloadermiddlewares.useragent.UserAgentMiddleware',\n",
            " 'scrapy.downloadermiddlewares.retry.RetryMiddleware',\n",
            " 'scrapy.downloadermiddlewares.redirect.MetaRefreshMiddleware',\n",
            " 'scrapy.downloadermiddlewares.httpcompression.HttpCompressionMiddleware',\n",
            " 'scrapy.downloadermiddlewares.redirect.RedirectMiddleware',\n",
            " 'scrapy.downloadermiddlewares.cookies.CookiesMiddleware',\n",
            " 'scrapy.downloadermiddlewares.httpproxy.HttpProxyMiddleware',\n",
            " 'scrapy.downloadermiddlewares.stats.DownloaderStats']\n",
            "2020-09-16 03:15:26 [scrapy.middleware] INFO: Enabled spider middlewares:\n",
            "['scrapy.spidermiddlewares.httperror.HttpErrorMiddleware',\n",
            " 'scrapy.spidermiddlewares.offsite.OffsiteMiddleware',\n",
            " 'scrapy.spidermiddlewares.referer.RefererMiddleware',\n",
            " 'scrapy.spidermiddlewares.urllength.UrlLengthMiddleware',\n",
            " 'scrapy.spidermiddlewares.depth.DepthMiddleware']\n",
            "2020-09-16 03:15:26 [scrapy.middleware] INFO: Enabled item pipelines:\n",
            "['TweetScraper.pipelines.SaveToFilePipeline']\n",
            "2020-09-16 03:15:26 [scrapy.core.engine] INFO: Spider opened\n",
            "2020-09-16 03:15:26 [scrapy.extensions.logstats] INFO: Crawled 0 pages (at 0 pages/min), scraped 0 items (at 0 items/min)\n",
            "2020-09-16 03:15:26 [scrapy.extensions.telnet] INFO: Telnet console listening on 127.0.0.1:6023\n",
            "2020-09-16 03:15:27 [scrapy.core.engine] INFO: Closing spider (finished)\n",
            "2020-09-16 03:15:27 [scrapy.statscollectors] INFO: Dumping Scrapy stats:\n",
            "{'downloader/request_bytes': 1227,\n",
            " 'downloader/request_count': 2,\n",
            " 'downloader/request_method_count/GET': 2,\n",
            " 'downloader/response_bytes': 3149,\n",
            " 'downloader/response_count': 2,\n",
            " 'downloader/response_status_count/200': 2,\n",
            " 'dupefilter/filtered': 1,\n",
            " 'elapsed_time_seconds': 0.871681,\n",
            " 'finish_reason': 'finished',\n",
            " 'finish_time': datetime.datetime(2020, 9, 16, 3, 15, 27, 694986),\n",
            " 'log_count/INFO': 10,\n",
            " 'memusage/max': 82006016,\n",
            " 'memusage/startup': 82006016,\n",
            " 'request_depth_max': 2,\n",
            " 'response_received_count': 2,\n",
            " 'scheduler/dequeued': 2,\n",
            " 'scheduler/dequeued/memory': 2,\n",
            " 'scheduler/enqueued': 2,\n",
            " 'scheduler/enqueued/memory': 2,\n",
            " 'start_time': datetime.datetime(2020, 9, 16, 3, 15, 26, 823305)}\n",
            "2020-09-16 03:15:27 [scrapy.core.engine] INFO: Spider closed (finished)\n"
          ],
          "name": "stdout"
        }
      ]
    },
    {
      "cell_type": "code",
      "metadata": {
        "id": "TXChHmZx-uWN",
        "outputId": "d447e9fa-5f98-45b2-fab8-2a391c792c5f",
        "colab": {
          "base_uri": "https://localhost:8080/",
          "height": 289
        }
      },
      "source": [
        "!pip install pytrends"
      ],
      "execution_count": null,
      "outputs": [
        {
          "output_type": "stream",
          "text": [
            "Collecting pytrends\n",
            "  Downloading https://files.pythonhosted.org/packages/96/53/a4a74c33bfdbe1740183e00769377352072e64182913562daf9f5e4f1938/pytrends-4.7.3-py3-none-any.whl\n",
            "Requirement already satisfied: lxml in /usr/local/lib/python3.6/dist-packages (from pytrends) (4.2.6)\n",
            "Requirement already satisfied: pandas>=0.25 in /usr/local/lib/python3.6/dist-packages (from pytrends) (1.0.5)\n",
            "Requirement already satisfied: requests in /usr/local/lib/python3.6/dist-packages (from pytrends) (2.23.0)\n",
            "Requirement already satisfied: pytz>=2017.2 in /usr/local/lib/python3.6/dist-packages (from pandas>=0.25->pytrends) (2018.9)\n",
            "Requirement already satisfied: python-dateutil>=2.6.1 in /usr/local/lib/python3.6/dist-packages (from pandas>=0.25->pytrends) (2.8.1)\n",
            "Requirement already satisfied: numpy>=1.13.3 in /usr/local/lib/python3.6/dist-packages (from pandas>=0.25->pytrends) (1.18.5)\n",
            "Requirement already satisfied: chardet<4,>=3.0.2 in /usr/local/lib/python3.6/dist-packages (from requests->pytrends) (3.0.4)\n",
            "Requirement already satisfied: certifi>=2017.4.17 in /usr/local/lib/python3.6/dist-packages (from requests->pytrends) (2020.6.20)\n",
            "Requirement already satisfied: urllib3!=1.25.0,!=1.25.1,<1.26,>=1.21.1 in /usr/local/lib/python3.6/dist-packages (from requests->pytrends) (1.24.3)\n",
            "Requirement already satisfied: idna<3,>=2.5 in /usr/local/lib/python3.6/dist-packages (from requests->pytrends) (2.10)\n",
            "Requirement already satisfied: six>=1.5 in /usr/local/lib/python3.6/dist-packages (from python-dateutil>=2.6.1->pandas>=0.25->pytrends) (1.15.0)\n",
            "Installing collected packages: pytrends\n",
            "Successfully installed pytrends-4.7.3\n"
          ],
          "name": "stdout"
        }
      ]
    },
    {
      "cell_type": "code",
      "metadata": {
        "id": "qcnt8stT-wAF",
        "outputId": "a374c523-4b25-4a73-bfa0-686c78d4908b",
        "colab": {
          "base_uri": "https://localhost:8080/",
          "height": 70
        }
      },
      "source": [
        "import pandas as pd\n",
        "import numpy as np\n",
        "\n",
        "import matplotlib.pyplot as plt\n",
        "import seaborn as sns\n",
        "sns.set_style('whitegrid')\n",
        "plt.style.use(\"fivethirtyeight\")\n",
        "%matplotlib inline\n",
        "\n",
        "# For reading stock data from yahoo\n",
        "from pandas_datareader.data import DataReader\n",
        "\n",
        "# For time stamps\n",
        "from datetime import datetime"
      ],
      "execution_count": null,
      "outputs": [
        {
          "output_type": "stream",
          "text": [
            "/usr/local/lib/python3.6/dist-packages/statsmodels/tools/_testing.py:19: FutureWarning: pandas.util.testing is deprecated. Use the functions in the public API at pandas.testing instead.\n",
            "  import pandas.util.testing as tm\n"
          ],
          "name": "stderr"
        }
      ]
    },
    {
      "cell_type": "code",
      "metadata": {
        "id": "EsjVlaGY-y8U"
      },
      "source": [
        "stock_list = ['RELIANCE.NS', 'HDFCBANK.NS', 'TCS.NS', 'M&M.NS']\n",
        "\n",
        "# Set up End and Start times for data\n",
        "end = datetime.now()\n",
        "start = datetime(end.year-1, end.month-2, end.day)\n",
        "endDay=datetime(end.year, end.month, end.day-4)\n",
        "mainDataframe={}\n",
        "\n",
        "#For loop for grabing yahoo finance data\n",
        "for stock in stock_list:   \n",
        "    # Set DataFrame as the Stock Ticker\n",
        "    mainDataframe[stock] = DataReader(stock, 'yahoo', start, endDay)"
      ],
      "execution_count": null,
      "outputs": []
    },
    {
      "cell_type": "code",
      "metadata": {
        "id": "ooZCsNuy88yV",
        "outputId": "28e30fc9-fd41-43a3-8c71-134ff36a762c",
        "colab": {
          "base_uri": "https://localhost:8080/",
          "height": 431
        }
      },
      "source": [
        "mainDataframe['RELIANCE.NS']"
      ],
      "execution_count": null,
      "outputs": [
        {
          "output_type": "execute_result",
          "data": {
            "text/html": [
              "<div>\n",
              "<style scoped>\n",
              "    .dataframe tbody tr th:only-of-type {\n",
              "        vertical-align: middle;\n",
              "    }\n",
              "\n",
              "    .dataframe tbody tr th {\n",
              "        vertical-align: top;\n",
              "    }\n",
              "\n",
              "    .dataframe thead th {\n",
              "        text-align: right;\n",
              "    }\n",
              "</style>\n",
              "<table border=\"1\" class=\"dataframe\">\n",
              "  <thead>\n",
              "    <tr style=\"text-align: right;\">\n",
              "      <th></th>\n",
              "      <th>High</th>\n",
              "      <th>Low</th>\n",
              "      <th>Open</th>\n",
              "      <th>Close</th>\n",
              "      <th>Volume</th>\n",
              "      <th>Adj Close</th>\n",
              "      <th>Trend</th>\n",
              "    </tr>\n",
              "    <tr>\n",
              "      <th>Date</th>\n",
              "      <th></th>\n",
              "      <th></th>\n",
              "      <th></th>\n",
              "      <th></th>\n",
              "      <th></th>\n",
              "      <th></th>\n",
              "      <th></th>\n",
              "    </tr>\n",
              "  </thead>\n",
              "  <tbody>\n",
              "    <tr>\n",
              "      <th>2019-07-16</th>\n",
              "      <td>1294.900024</td>\n",
              "      <td>1277.050049</td>\n",
              "      <td>1279.949951</td>\n",
              "      <td>1293.000000</td>\n",
              "      <td>4604019.0</td>\n",
              "      <td>1281.135498</td>\n",
              "      <td>0</td>\n",
              "    </tr>\n",
              "    <tr>\n",
              "      <th>2019-07-17</th>\n",
              "      <td>1297.000000</td>\n",
              "      <td>1280.000000</td>\n",
              "      <td>1294.300049</td>\n",
              "      <td>1281.849976</td>\n",
              "      <td>4334958.0</td>\n",
              "      <td>1270.087646</td>\n",
              "      <td>0</td>\n",
              "    </tr>\n",
              "    <tr>\n",
              "      <th>2019-07-18</th>\n",
              "      <td>1286.400024</td>\n",
              "      <td>1258.000000</td>\n",
              "      <td>1282.000000</td>\n",
              "      <td>1261.849976</td>\n",
              "      <td>5459896.0</td>\n",
              "      <td>1250.271240</td>\n",
              "      <td>0</td>\n",
              "    </tr>\n",
              "    <tr>\n",
              "      <th>2019-07-19</th>\n",
              "      <td>1272.949951</td>\n",
              "      <td>1242.699951</td>\n",
              "      <td>1268.199951</td>\n",
              "      <td>1249.000000</td>\n",
              "      <td>7468515.0</td>\n",
              "      <td>1237.539185</td>\n",
              "      <td>34</td>\n",
              "    </tr>\n",
              "    <tr>\n",
              "      <th>2019-07-22</th>\n",
              "      <td>1284.500000</td>\n",
              "      <td>1227.300049</td>\n",
              "      <td>1251.000000</td>\n",
              "      <td>1280.500000</td>\n",
              "      <td>13300153.0</td>\n",
              "      <td>1268.750122</td>\n",
              "      <td>34</td>\n",
              "    </tr>\n",
              "    <tr>\n",
              "      <th>...</th>\n",
              "      <td>...</td>\n",
              "      <td>...</td>\n",
              "      <td>...</td>\n",
              "      <td>...</td>\n",
              "      <td>...</td>\n",
              "      <td>...</td>\n",
              "      <td>...</td>\n",
              "    </tr>\n",
              "    <tr>\n",
              "      <th>2020-09-07</th>\n",
              "      <td>2105.750000</td>\n",
              "      <td>2044.250000</td>\n",
              "      <td>2084.000000</td>\n",
              "      <td>2082.649902</td>\n",
              "      <td>10119064.0</td>\n",
              "      <td>2082.649902</td>\n",
              "      <td>100</td>\n",
              "    </tr>\n",
              "    <tr>\n",
              "      <th>2020-09-08</th>\n",
              "      <td>2121.000000</td>\n",
              "      <td>2080.500000</td>\n",
              "      <td>2092.000000</td>\n",
              "      <td>2107.100098</td>\n",
              "      <td>12643749.0</td>\n",
              "      <td>2107.100098</td>\n",
              "      <td>0</td>\n",
              "    </tr>\n",
              "    <tr>\n",
              "      <th>2020-09-09</th>\n",
              "      <td>2167.800049</td>\n",
              "      <td>2081.449951</td>\n",
              "      <td>2085.000000</td>\n",
              "      <td>2161.350098</td>\n",
              "      <td>25525961.0</td>\n",
              "      <td>2161.350098</td>\n",
              "      <td>0</td>\n",
              "    </tr>\n",
              "    <tr>\n",
              "      <th>2020-09-10</th>\n",
              "      <td>2344.949951</td>\n",
              "      <td>2175.350098</td>\n",
              "      <td>2183.100098</td>\n",
              "      <td>2314.000000</td>\n",
              "      <td>64750460.0</td>\n",
              "      <td>2314.000000</td>\n",
              "      <td>0</td>\n",
              "    </tr>\n",
              "    <tr>\n",
              "      <th>2020-09-11</th>\n",
              "      <td>2337.850098</td>\n",
              "      <td>2287.100098</td>\n",
              "      <td>2312.000000</td>\n",
              "      <td>2319.750000</td>\n",
              "      <td>27445768.0</td>\n",
              "      <td>2319.750000</td>\n",
              "      <td>58</td>\n",
              "    </tr>\n",
              "  </tbody>\n",
              "</table>\n",
              "<p>286 rows × 7 columns</p>\n",
              "</div>"
            ],
            "text/plain": [
              "                   High          Low  ...    Adj Close  Trend\n",
              "Date                                  ...                    \n",
              "2019-07-16  1294.900024  1277.050049  ...  1281.135498      0\n",
              "2019-07-17  1297.000000  1280.000000  ...  1270.087646      0\n",
              "2019-07-18  1286.400024  1258.000000  ...  1250.271240      0\n",
              "2019-07-19  1272.949951  1242.699951  ...  1237.539185     34\n",
              "2019-07-22  1284.500000  1227.300049  ...  1268.750122     34\n",
              "...                 ...          ...  ...          ...    ...\n",
              "2020-09-07  2105.750000  2044.250000  ...  2082.649902    100\n",
              "2020-09-08  2121.000000  2080.500000  ...  2107.100098      0\n",
              "2020-09-09  2167.800049  2081.449951  ...  2161.350098      0\n",
              "2020-09-10  2344.949951  2175.350098  ...  2314.000000      0\n",
              "2020-09-11  2337.850098  2287.100098  ...  2319.750000     58\n",
              "\n",
              "[286 rows x 7 columns]"
            ]
          },
          "metadata": {
            "tags": []
          },
          "execution_count": 29
        }
      ]
    },
    {
      "cell_type": "code",
      "metadata": {
        "id": "p2dpICB29n19"
      },
      "source": [
        ""
      ],
      "execution_count": null,
      "outputs": []
    },
    {
      "cell_type": "code",
      "metadata": {
        "id": "MRjWmIbj-0gh",
        "outputId": "eb2cac0a-99f7-4615-9427-f708e3f73d54",
        "colab": {
          "base_uri": "https://localhost:8080/",
          "height": 286
        }
      },
      "source": [
        "#Get Google Trends\n",
        "from pytrends import dailydata\n",
        "dframe = dailydata.get_daily_data('Reliance Limited', end.year-1, end.month-3, end.year, end.month)"
      ],
      "execution_count": null,
      "outputs": [
        {
          "output_type": "stream",
          "text": [
            "Reliance Limited:2019-06-01 2019-06-30\n",
            "Reliance Limited:2019-07-01 2019-07-31\n",
            "Reliance Limited:2019-08-01 2019-08-31\n",
            "Reliance Limited:2019-09-01 2019-09-30\n",
            "Reliance Limited:2019-10-01 2019-10-31\n",
            "Reliance Limited:2019-11-01 2019-11-30\n",
            "Reliance Limited:2019-12-01 2019-12-31\n",
            "Reliance Limited:2020-01-01 2020-01-31\n",
            "Reliance Limited:2020-02-01 2020-02-29\n",
            "Reliance Limited:2020-03-01 2020-03-31\n",
            "Reliance Limited:2020-04-01 2020-04-30\n",
            "Reliance Limited:2020-05-01 2020-05-31\n",
            "Reliance Limited:2020-06-01 2020-06-30\n",
            "Reliance Limited:2020-07-01 2020-07-31\n",
            "Reliance Limited:2020-08-01 2020-08-31\n",
            "Reliance Limited:2020-09-01 2020-09-30\n"
          ],
          "name": "stdout"
        }
      ]
    },
    {
      "cell_type": "code",
      "metadata": {
        "id": "RUdLorc99VRo",
        "outputId": "a0f41a65-4f94-44cc-aeaf-b11ec0543ce9",
        "colab": {
          "base_uri": "https://localhost:8080/",
          "height": 431
        }
      },
      "source": [
        "dframe"
      ],
      "execution_count": null,
      "outputs": [
        {
          "output_type": "execute_result",
          "data": {
            "text/html": [
              "<div>\n",
              "<style scoped>\n",
              "    .dataframe tbody tr th:only-of-type {\n",
              "        vertical-align: middle;\n",
              "    }\n",
              "\n",
              "    .dataframe tbody tr th {\n",
              "        vertical-align: top;\n",
              "    }\n",
              "\n",
              "    .dataframe thead th {\n",
              "        text-align: right;\n",
              "    }\n",
              "</style>\n",
              "<table border=\"1\" class=\"dataframe\">\n",
              "  <thead>\n",
              "    <tr style=\"text-align: right;\">\n",
              "      <th></th>\n",
              "      <th>Reliance Limited_unscaled</th>\n",
              "      <th>Reliance Limited_monthly</th>\n",
              "      <th>isPartial</th>\n",
              "      <th>scale</th>\n",
              "      <th>Reliance Limited</th>\n",
              "    </tr>\n",
              "    <tr>\n",
              "      <th>date</th>\n",
              "      <th></th>\n",
              "      <th></th>\n",
              "      <th></th>\n",
              "      <th></th>\n",
              "      <th></th>\n",
              "    </tr>\n",
              "  </thead>\n",
              "  <tbody>\n",
              "    <tr>\n",
              "      <th>2019-06-01</th>\n",
              "      <td>0</td>\n",
              "      <td>NaN</td>\n",
              "      <td>NaN</td>\n",
              "      <td>NaN</td>\n",
              "      <td>NaN</td>\n",
              "    </tr>\n",
              "    <tr>\n",
              "      <th>2019-06-02</th>\n",
              "      <td>58</td>\n",
              "      <td>27.0</td>\n",
              "      <td>False</td>\n",
              "      <td>0.27</td>\n",
              "      <td>15.66</td>\n",
              "    </tr>\n",
              "    <tr>\n",
              "      <th>2019-06-03</th>\n",
              "      <td>0</td>\n",
              "      <td>27.0</td>\n",
              "      <td>NaN</td>\n",
              "      <td>0.27</td>\n",
              "      <td>0.00</td>\n",
              "    </tr>\n",
              "    <tr>\n",
              "      <th>2019-06-04</th>\n",
              "      <td>0</td>\n",
              "      <td>27.0</td>\n",
              "      <td>NaN</td>\n",
              "      <td>0.27</td>\n",
              "      <td>0.00</td>\n",
              "    </tr>\n",
              "    <tr>\n",
              "      <th>2019-06-05</th>\n",
              "      <td>50</td>\n",
              "      <td>27.0</td>\n",
              "      <td>NaN</td>\n",
              "      <td>0.27</td>\n",
              "      <td>13.50</td>\n",
              "    </tr>\n",
              "    <tr>\n",
              "      <th>...</th>\n",
              "      <td>...</td>\n",
              "      <td>...</td>\n",
              "      <td>...</td>\n",
              "      <td>...</td>\n",
              "      <td>...</td>\n",
              "    </tr>\n",
              "    <tr>\n",
              "      <th>2020-09-09</th>\n",
              "      <td>0</td>\n",
              "      <td>34.0</td>\n",
              "      <td>NaN</td>\n",
              "      <td>0.34</td>\n",
              "      <td>0.00</td>\n",
              "    </tr>\n",
              "    <tr>\n",
              "      <th>2020-09-10</th>\n",
              "      <td>0</td>\n",
              "      <td>34.0</td>\n",
              "      <td>NaN</td>\n",
              "      <td>0.34</td>\n",
              "      <td>0.00</td>\n",
              "    </tr>\n",
              "    <tr>\n",
              "      <th>2020-09-11</th>\n",
              "      <td>58</td>\n",
              "      <td>34.0</td>\n",
              "      <td>NaN</td>\n",
              "      <td>0.34</td>\n",
              "      <td>19.72</td>\n",
              "    </tr>\n",
              "    <tr>\n",
              "      <th>2020-09-12</th>\n",
              "      <td>68</td>\n",
              "      <td>34.0</td>\n",
              "      <td>NaN</td>\n",
              "      <td>0.34</td>\n",
              "      <td>23.12</td>\n",
              "    </tr>\n",
              "    <tr>\n",
              "      <th>2020-09-13</th>\n",
              "      <td>67</td>\n",
              "      <td>0.0</td>\n",
              "      <td>True</td>\n",
              "      <td>0.00</td>\n",
              "      <td>0.00</td>\n",
              "    </tr>\n",
              "  </tbody>\n",
              "</table>\n",
              "<p>471 rows × 5 columns</p>\n",
              "</div>"
            ],
            "text/plain": [
              "            Reliance Limited_unscaled  ...  Reliance Limited\n",
              "date                                   ...                  \n",
              "2019-06-01                          0  ...               NaN\n",
              "2019-06-02                         58  ...             15.66\n",
              "2019-06-03                          0  ...              0.00\n",
              "2019-06-04                          0  ...              0.00\n",
              "2019-06-05                         50  ...             13.50\n",
              "...                               ...  ...               ...\n",
              "2020-09-09                          0  ...              0.00\n",
              "2020-09-10                          0  ...              0.00\n",
              "2020-09-11                         58  ...             19.72\n",
              "2020-09-12                         68  ...             23.12\n",
              "2020-09-13                         67  ...              0.00\n",
              "\n",
              "[471 rows x 5 columns]"
            ]
          },
          "metadata": {
            "tags": []
          },
          "execution_count": 35
        }
      ]
    },
    {
      "cell_type": "code",
      "metadata": {
        "id": "wr2Y7p8K-2QL"
      },
      "source": [
        "dframe['Date']=[str(j).split()[0] for j in dframe.index]"
      ],
      "execution_count": null,
      "outputs": []
    },
    {
      "cell_type": "code",
      "metadata": {
        "id": "S4L6WsSq96H0",
        "outputId": "f557cffd-75b4-4f70-f5b1-c0678c0c5632",
        "colab": {
          "base_uri": "https://localhost:8080/",
          "height": 431
        }
      },
      "source": [
        "dframe"
      ],
      "execution_count": null,
      "outputs": [
        {
          "output_type": "execute_result",
          "data": {
            "text/html": [
              "<div>\n",
              "<style scoped>\n",
              "    .dataframe tbody tr th:only-of-type {\n",
              "        vertical-align: middle;\n",
              "    }\n",
              "\n",
              "    .dataframe tbody tr th {\n",
              "        vertical-align: top;\n",
              "    }\n",
              "\n",
              "    .dataframe thead th {\n",
              "        text-align: right;\n",
              "    }\n",
              "</style>\n",
              "<table border=\"1\" class=\"dataframe\">\n",
              "  <thead>\n",
              "    <tr style=\"text-align: right;\">\n",
              "      <th></th>\n",
              "      <th>Reliance Limited_unscaled</th>\n",
              "      <th>Reliance Limited_monthly</th>\n",
              "      <th>isPartial</th>\n",
              "      <th>scale</th>\n",
              "      <th>Reliance Limited</th>\n",
              "      <th>Date</th>\n",
              "    </tr>\n",
              "    <tr>\n",
              "      <th>date</th>\n",
              "      <th></th>\n",
              "      <th></th>\n",
              "      <th></th>\n",
              "      <th></th>\n",
              "      <th></th>\n",
              "      <th></th>\n",
              "    </tr>\n",
              "  </thead>\n",
              "  <tbody>\n",
              "    <tr>\n",
              "      <th>2019-06-01</th>\n",
              "      <td>0</td>\n",
              "      <td>NaN</td>\n",
              "      <td>NaN</td>\n",
              "      <td>NaN</td>\n",
              "      <td>NaN</td>\n",
              "      <td>2019-06-01</td>\n",
              "    </tr>\n",
              "    <tr>\n",
              "      <th>2019-06-02</th>\n",
              "      <td>58</td>\n",
              "      <td>27.0</td>\n",
              "      <td>False</td>\n",
              "      <td>0.27</td>\n",
              "      <td>15.66</td>\n",
              "      <td>2019-06-02</td>\n",
              "    </tr>\n",
              "    <tr>\n",
              "      <th>2019-06-03</th>\n",
              "      <td>0</td>\n",
              "      <td>27.0</td>\n",
              "      <td>NaN</td>\n",
              "      <td>0.27</td>\n",
              "      <td>0.00</td>\n",
              "      <td>2019-06-03</td>\n",
              "    </tr>\n",
              "    <tr>\n",
              "      <th>2019-06-04</th>\n",
              "      <td>0</td>\n",
              "      <td>27.0</td>\n",
              "      <td>NaN</td>\n",
              "      <td>0.27</td>\n",
              "      <td>0.00</td>\n",
              "      <td>2019-06-04</td>\n",
              "    </tr>\n",
              "    <tr>\n",
              "      <th>2019-06-05</th>\n",
              "      <td>50</td>\n",
              "      <td>27.0</td>\n",
              "      <td>NaN</td>\n",
              "      <td>0.27</td>\n",
              "      <td>13.50</td>\n",
              "      <td>2019-06-05</td>\n",
              "    </tr>\n",
              "    <tr>\n",
              "      <th>...</th>\n",
              "      <td>...</td>\n",
              "      <td>...</td>\n",
              "      <td>...</td>\n",
              "      <td>...</td>\n",
              "      <td>...</td>\n",
              "      <td>...</td>\n",
              "    </tr>\n",
              "    <tr>\n",
              "      <th>2020-09-09</th>\n",
              "      <td>0</td>\n",
              "      <td>34.0</td>\n",
              "      <td>NaN</td>\n",
              "      <td>0.34</td>\n",
              "      <td>0.00</td>\n",
              "      <td>2020-09-09</td>\n",
              "    </tr>\n",
              "    <tr>\n",
              "      <th>2020-09-10</th>\n",
              "      <td>0</td>\n",
              "      <td>34.0</td>\n",
              "      <td>NaN</td>\n",
              "      <td>0.34</td>\n",
              "      <td>0.00</td>\n",
              "      <td>2020-09-10</td>\n",
              "    </tr>\n",
              "    <tr>\n",
              "      <th>2020-09-11</th>\n",
              "      <td>58</td>\n",
              "      <td>34.0</td>\n",
              "      <td>NaN</td>\n",
              "      <td>0.34</td>\n",
              "      <td>19.72</td>\n",
              "      <td>2020-09-11</td>\n",
              "    </tr>\n",
              "    <tr>\n",
              "      <th>2020-09-12</th>\n",
              "      <td>68</td>\n",
              "      <td>34.0</td>\n",
              "      <td>NaN</td>\n",
              "      <td>0.34</td>\n",
              "      <td>23.12</td>\n",
              "      <td>2020-09-12</td>\n",
              "    </tr>\n",
              "    <tr>\n",
              "      <th>2020-09-13</th>\n",
              "      <td>67</td>\n",
              "      <td>0.0</td>\n",
              "      <td>True</td>\n",
              "      <td>0.00</td>\n",
              "      <td>0.00</td>\n",
              "      <td>2020-09-13</td>\n",
              "    </tr>\n",
              "  </tbody>\n",
              "</table>\n",
              "<p>471 rows × 6 columns</p>\n",
              "</div>"
            ],
            "text/plain": [
              "            Reliance Limited_unscaled  ...        Date\n",
              "date                                   ...            \n",
              "2019-06-01                          0  ...  2019-06-01\n",
              "2019-06-02                         58  ...  2019-06-02\n",
              "2019-06-03                          0  ...  2019-06-03\n",
              "2019-06-04                          0  ...  2019-06-04\n",
              "2019-06-05                         50  ...  2019-06-05\n",
              "...                               ...  ...         ...\n",
              "2020-09-09                          0  ...  2020-09-09\n",
              "2020-09-10                          0  ...  2020-09-10\n",
              "2020-09-11                         58  ...  2020-09-11\n",
              "2020-09-12                         68  ...  2020-09-12\n",
              "2020-09-13                         67  ...  2020-09-13\n",
              "\n",
              "[471 rows x 6 columns]"
            ]
          },
          "metadata": {
            "tags": []
          },
          "execution_count": 37
        }
      ]
    },
    {
      "cell_type": "code",
      "metadata": {
        "id": "gbg4_b4--69k"
      },
      "source": [
        "mainDataframe[stock_list[0]]['Trend']=[dframe['Reliance Limited_unscaled'][list(dframe['Date']).index(str(j).split()[0])] for j in mainDataframe[stock_list[0]].index]"
      ],
      "execution_count": null,
      "outputs": []
    },
    {
      "cell_type": "code",
      "metadata": {
        "id": "BE-lV5WA6xYM",
        "outputId": "c90ae0c7-84cb-4253-ace8-343c7436203d",
        "colab": {
          "base_uri": "https://localhost:8080/",
          "height": 34
        }
      },
      "source": [
        "mainDataframe[stock_list[0]].shape"
      ],
      "execution_count": null,
      "outputs": [
        {
          "output_type": "execute_result",
          "data": {
            "text/plain": [
              "(286, 7)"
            ]
          },
          "metadata": {
            "tags": []
          },
          "execution_count": 39
        }
      ]
    },
    {
      "cell_type": "code",
      "metadata": {
        "id": "gBfXiUIT-8ha"
      },
      "source": [
        "#Moving Average\n",
        "\n",
        "ma_day = [20, 30, 50]\n",
        "\n",
        "for ma in ma_day:\n",
        "    for k,v in mainDataframe.items():\n",
        "        column_name = f\"MA for {ma} days\"\n",
        "        mainDataframe[k][column_name] = v['Adj Close'].rolling(ma).mean()"
      ],
      "execution_count": null,
      "outputs": []
    },
    {
      "cell_type": "code",
      "metadata": {
        "id": "SGxerP1O-_01",
        "outputId": "d9e83e30-c747-46e9-9827-65ad7d7a1251",
        "colab": {
          "base_uri": "https://localhost:8080/",
          "height": 431
        }
      },
      "source": [
        "mainDataframe[stock_list[0]]"
      ],
      "execution_count": null,
      "outputs": [
        {
          "output_type": "execute_result",
          "data": {
            "text/html": [
              "<div>\n",
              "<style scoped>\n",
              "    .dataframe tbody tr th:only-of-type {\n",
              "        vertical-align: middle;\n",
              "    }\n",
              "\n",
              "    .dataframe tbody tr th {\n",
              "        vertical-align: top;\n",
              "    }\n",
              "\n",
              "    .dataframe thead th {\n",
              "        text-align: right;\n",
              "    }\n",
              "</style>\n",
              "<table border=\"1\" class=\"dataframe\">\n",
              "  <thead>\n",
              "    <tr style=\"text-align: right;\">\n",
              "      <th></th>\n",
              "      <th>High</th>\n",
              "      <th>Low</th>\n",
              "      <th>Open</th>\n",
              "      <th>Close</th>\n",
              "      <th>Volume</th>\n",
              "      <th>Adj Close</th>\n",
              "      <th>Trend</th>\n",
              "      <th>MA for 20 days</th>\n",
              "      <th>MA for 30 days</th>\n",
              "      <th>MA for 50 days</th>\n",
              "    </tr>\n",
              "    <tr>\n",
              "      <th>Date</th>\n",
              "      <th></th>\n",
              "      <th></th>\n",
              "      <th></th>\n",
              "      <th></th>\n",
              "      <th></th>\n",
              "      <th></th>\n",
              "      <th></th>\n",
              "      <th></th>\n",
              "      <th></th>\n",
              "      <th></th>\n",
              "    </tr>\n",
              "  </thead>\n",
              "  <tbody>\n",
              "    <tr>\n",
              "      <th>2019-07-16</th>\n",
              "      <td>1294.900024</td>\n",
              "      <td>1277.050049</td>\n",
              "      <td>1279.949951</td>\n",
              "      <td>1293.000000</td>\n",
              "      <td>4604019.0</td>\n",
              "      <td>1281.135498</td>\n",
              "      <td>0</td>\n",
              "      <td>NaN</td>\n",
              "      <td>NaN</td>\n",
              "      <td>NaN</td>\n",
              "    </tr>\n",
              "    <tr>\n",
              "      <th>2019-07-17</th>\n",
              "      <td>1297.000000</td>\n",
              "      <td>1280.000000</td>\n",
              "      <td>1294.300049</td>\n",
              "      <td>1281.849976</td>\n",
              "      <td>4334958.0</td>\n",
              "      <td>1270.087646</td>\n",
              "      <td>0</td>\n",
              "      <td>NaN</td>\n",
              "      <td>NaN</td>\n",
              "      <td>NaN</td>\n",
              "    </tr>\n",
              "    <tr>\n",
              "      <th>2019-07-18</th>\n",
              "      <td>1286.400024</td>\n",
              "      <td>1258.000000</td>\n",
              "      <td>1282.000000</td>\n",
              "      <td>1261.849976</td>\n",
              "      <td>5459896.0</td>\n",
              "      <td>1250.271240</td>\n",
              "      <td>0</td>\n",
              "      <td>NaN</td>\n",
              "      <td>NaN</td>\n",
              "      <td>NaN</td>\n",
              "    </tr>\n",
              "    <tr>\n",
              "      <th>2019-07-19</th>\n",
              "      <td>1272.949951</td>\n",
              "      <td>1242.699951</td>\n",
              "      <td>1268.199951</td>\n",
              "      <td>1249.000000</td>\n",
              "      <td>7468515.0</td>\n",
              "      <td>1237.539185</td>\n",
              "      <td>34</td>\n",
              "      <td>NaN</td>\n",
              "      <td>NaN</td>\n",
              "      <td>NaN</td>\n",
              "    </tr>\n",
              "    <tr>\n",
              "      <th>2019-07-22</th>\n",
              "      <td>1284.500000</td>\n",
              "      <td>1227.300049</td>\n",
              "      <td>1251.000000</td>\n",
              "      <td>1280.500000</td>\n",
              "      <td>13300153.0</td>\n",
              "      <td>1268.750122</td>\n",
              "      <td>34</td>\n",
              "      <td>NaN</td>\n",
              "      <td>NaN</td>\n",
              "      <td>NaN</td>\n",
              "    </tr>\n",
              "    <tr>\n",
              "      <th>...</th>\n",
              "      <td>...</td>\n",
              "      <td>...</td>\n",
              "      <td>...</td>\n",
              "      <td>...</td>\n",
              "      <td>...</td>\n",
              "      <td>...</td>\n",
              "      <td>...</td>\n",
              "      <td>...</td>\n",
              "      <td>...</td>\n",
              "      <td>...</td>\n",
              "    </tr>\n",
              "    <tr>\n",
              "      <th>2020-09-07</th>\n",
              "      <td>2105.750000</td>\n",
              "      <td>2044.250000</td>\n",
              "      <td>2084.000000</td>\n",
              "      <td>2082.649902</td>\n",
              "      <td>10119064.0</td>\n",
              "      <td>2082.649902</td>\n",
              "      <td>100</td>\n",
              "      <td>2106.382532</td>\n",
              "      <td>2108.813363</td>\n",
              "      <td>2022.474524</td>\n",
              "    </tr>\n",
              "    <tr>\n",
              "      <th>2020-09-08</th>\n",
              "      <td>2121.000000</td>\n",
              "      <td>2080.500000</td>\n",
              "      <td>2092.000000</td>\n",
              "      <td>2107.100098</td>\n",
              "      <td>12643749.0</td>\n",
              "      <td>2107.100098</td>\n",
              "      <td>0</td>\n",
              "      <td>2105.047534</td>\n",
              "      <td>2106.460034</td>\n",
              "      <td>2030.662019</td>\n",
              "    </tr>\n",
              "    <tr>\n",
              "      <th>2020-09-09</th>\n",
              "      <td>2167.800049</td>\n",
              "      <td>2081.449951</td>\n",
              "      <td>2085.000000</td>\n",
              "      <td>2161.350098</td>\n",
              "      <td>25525961.0</td>\n",
              "      <td>2161.350098</td>\n",
              "      <td>0</td>\n",
              "      <td>2106.735034</td>\n",
              "      <td>2108.616707</td>\n",
              "      <td>2039.267021</td>\n",
              "    </tr>\n",
              "    <tr>\n",
              "      <th>2020-09-10</th>\n",
              "      <td>2344.949951</td>\n",
              "      <td>2175.350098</td>\n",
              "      <td>2183.100098</td>\n",
              "      <td>2314.000000</td>\n",
              "      <td>64750460.0</td>\n",
              "      <td>2314.000000</td>\n",
              "      <td>0</td>\n",
              "      <td>2116.332532</td>\n",
              "      <td>2115.455037</td>\n",
              "      <td>2050.340022</td>\n",
              "    </tr>\n",
              "    <tr>\n",
              "      <th>2020-09-11</th>\n",
              "      <td>2337.850098</td>\n",
              "      <td>2287.100098</td>\n",
              "      <td>2312.000000</td>\n",
              "      <td>2319.750000</td>\n",
              "      <td>27445768.0</td>\n",
              "      <td>2319.750000</td>\n",
              "      <td>58</td>\n",
              "      <td>2126.630029</td>\n",
              "      <td>2123.876701</td>\n",
              "      <td>2060.977021</td>\n",
              "    </tr>\n",
              "  </tbody>\n",
              "</table>\n",
              "<p>286 rows × 10 columns</p>\n",
              "</div>"
            ],
            "text/plain": [
              "                   High          Low  ...  MA for 30 days  MA for 50 days\n",
              "Date                                  ...                                \n",
              "2019-07-16  1294.900024  1277.050049  ...             NaN             NaN\n",
              "2019-07-17  1297.000000  1280.000000  ...             NaN             NaN\n",
              "2019-07-18  1286.400024  1258.000000  ...             NaN             NaN\n",
              "2019-07-19  1272.949951  1242.699951  ...             NaN             NaN\n",
              "2019-07-22  1284.500000  1227.300049  ...             NaN             NaN\n",
              "...                 ...          ...  ...             ...             ...\n",
              "2020-09-07  2105.750000  2044.250000  ...     2108.813363     2022.474524\n",
              "2020-09-08  2121.000000  2080.500000  ...     2106.460034     2030.662019\n",
              "2020-09-09  2167.800049  2081.449951  ...     2108.616707     2039.267021\n",
              "2020-09-10  2344.949951  2175.350098  ...     2115.455037     2050.340022\n",
              "2020-09-11  2337.850098  2287.100098  ...     2123.876701     2060.977021\n",
              "\n",
              "[286 rows x 10 columns]"
            ]
          },
          "metadata": {
            "tags": []
          },
          "execution_count": 47
        }
      ]
    },
    {
      "cell_type": "code",
      "metadata": {
        "id": "TnkDzbDU_AvQ"
      },
      "source": [
        "#Wikipedia API Count\n",
        "import requests\n",
        "#from nsetools import Nse\n",
        "from datetime import datetime\n",
        "from dateutil.relativedelta import relativedelta\n",
        "\n",
        "# nse=Nse()\n",
        "\n",
        "# #All Stocks\n",
        "# def stocks():\n",
        "#   all_stock_codes = nse.get_stock_codes()\n",
        "#   return all_stock_codes\n",
        "\n",
        "#formattedDate\n",
        "def dateFormatted(dateToday):\n",
        "  date=str(dateToday).split(\" \")[0]\n",
        "  formattedTodayDate=\"\".join(date.split(\"-\"))\n",
        "  #formattedTodayDate=str(dateToday.year)+str(dateToday.month if dateToday.month>9 else \"0\"+str(dateToday.month))+str(dateToday.day if dateToday.day>9 else \"0\"+str(dateToday.day))\n",
        "  return formattedTodayDate\n",
        "\n",
        "\n",
        "#daily Count\n",
        "def dailyCount(today,query_page):\n",
        "  formmatedUrl=\"https://wikimedia.org/api/rest_v1/metrics/pageviews/per-article/en.wikipedia/all-access/all-agents/{}/daily/{}/{}\".format(query_page,today,today)\n",
        "  dayCount=requests.get(formmatedUrl)\n",
        "  return dayCount\n",
        "\n",
        "\n",
        "#date\n",
        "def dates():\n",
        "  dateToday=dateFormatted(datetime.today())\n",
        "  prevDate=dateFormatted(datetime.today()- relativedelta(days=1))\n",
        "  return [dateToday,prevDate]\n",
        "\n",
        "#engine\n",
        "def wikipedia():\n",
        "  #stock=stocks()\n",
        "  name='Reliance_Industries_Limited'\n",
        "  #name='Tata_Consultancy_Services_Limited'\n",
        "  views=[]\n",
        "  for i in range(len(mainDataframe[stock_list[0]])):\n",
        "    date=list(mainDataframe[stock_list[0]].index)[i]\n",
        "    date=dateFormatted(date)\n",
        "    out=dailyCount(date,name)\n",
        "    try:\n",
        "      views.append(out.json()['items'][0]['views'])\n",
        "    except Exception as e:\n",
        "      print(e)\n",
        "      print(out.json())\n",
        "\n",
        "  mainDataframe[stock_list[0]]['Views']=views\n",
        "\n",
        "\n",
        "wikipedia()"
      ],
      "execution_count": null,
      "outputs": []
    },
    {
      "cell_type": "code",
      "metadata": {
        "id": "zrVWO4e8_bfu",
        "outputId": "1a9ed32a-4c90-4332-c416-2007f737ca8e",
        "colab": {
          "base_uri": "https://localhost:8080/",
          "height": 326
        }
      },
      "source": [
        "df=mainDataframe[stock_list[0]]\n",
        "df.tail()"
      ],
      "execution_count": null,
      "outputs": [
        {
          "output_type": "execute_result",
          "data": {
            "text/html": [
              "<div>\n",
              "<style scoped>\n",
              "    .dataframe tbody tr th:only-of-type {\n",
              "        vertical-align: middle;\n",
              "    }\n",
              "\n",
              "    .dataframe tbody tr th {\n",
              "        vertical-align: top;\n",
              "    }\n",
              "\n",
              "    .dataframe thead th {\n",
              "        text-align: right;\n",
              "    }\n",
              "</style>\n",
              "<table border=\"1\" class=\"dataframe\">\n",
              "  <thead>\n",
              "    <tr style=\"text-align: right;\">\n",
              "      <th></th>\n",
              "      <th>High</th>\n",
              "      <th>Low</th>\n",
              "      <th>Open</th>\n",
              "      <th>Close</th>\n",
              "      <th>Volume</th>\n",
              "      <th>Adj Close</th>\n",
              "      <th>Trend</th>\n",
              "      <th>MA for 20 days</th>\n",
              "      <th>MA for 30 days</th>\n",
              "      <th>MA for 50 days</th>\n",
              "      <th>Views</th>\n",
              "    </tr>\n",
              "    <tr>\n",
              "      <th>Date</th>\n",
              "      <th></th>\n",
              "      <th></th>\n",
              "      <th></th>\n",
              "      <th></th>\n",
              "      <th></th>\n",
              "      <th></th>\n",
              "      <th></th>\n",
              "      <th></th>\n",
              "      <th></th>\n",
              "      <th></th>\n",
              "      <th></th>\n",
              "    </tr>\n",
              "  </thead>\n",
              "  <tbody>\n",
              "    <tr>\n",
              "      <th>2020-09-07</th>\n",
              "      <td>2105.750000</td>\n",
              "      <td>2044.250000</td>\n",
              "      <td>2084.000000</td>\n",
              "      <td>2082.649902</td>\n",
              "      <td>10119064.0</td>\n",
              "      <td>2082.649902</td>\n",
              "      <td>100</td>\n",
              "      <td>2106.382532</td>\n",
              "      <td>2108.813363</td>\n",
              "      <td>2022.474524</td>\n",
              "      <td>350</td>\n",
              "    </tr>\n",
              "    <tr>\n",
              "      <th>2020-09-08</th>\n",
              "      <td>2121.000000</td>\n",
              "      <td>2080.500000</td>\n",
              "      <td>2092.000000</td>\n",
              "      <td>2107.100098</td>\n",
              "      <td>12643749.0</td>\n",
              "      <td>2107.100098</td>\n",
              "      <td>0</td>\n",
              "      <td>2105.047534</td>\n",
              "      <td>2106.460034</td>\n",
              "      <td>2030.662019</td>\n",
              "      <td>331</td>\n",
              "    </tr>\n",
              "    <tr>\n",
              "      <th>2020-09-09</th>\n",
              "      <td>2167.800049</td>\n",
              "      <td>2081.449951</td>\n",
              "      <td>2085.000000</td>\n",
              "      <td>2161.350098</td>\n",
              "      <td>25525961.0</td>\n",
              "      <td>2161.350098</td>\n",
              "      <td>0</td>\n",
              "      <td>2106.735034</td>\n",
              "      <td>2108.616707</td>\n",
              "      <td>2039.267021</td>\n",
              "      <td>415</td>\n",
              "    </tr>\n",
              "    <tr>\n",
              "      <th>2020-09-10</th>\n",
              "      <td>2344.949951</td>\n",
              "      <td>2175.350098</td>\n",
              "      <td>2183.100098</td>\n",
              "      <td>2314.000000</td>\n",
              "      <td>64750460.0</td>\n",
              "      <td>2314.000000</td>\n",
              "      <td>0</td>\n",
              "      <td>2116.332532</td>\n",
              "      <td>2115.455037</td>\n",
              "      <td>2050.340022</td>\n",
              "      <td>572</td>\n",
              "    </tr>\n",
              "    <tr>\n",
              "      <th>2020-09-11</th>\n",
              "      <td>2337.850098</td>\n",
              "      <td>2287.100098</td>\n",
              "      <td>2312.000000</td>\n",
              "      <td>2319.750000</td>\n",
              "      <td>27445768.0</td>\n",
              "      <td>2319.750000</td>\n",
              "      <td>58</td>\n",
              "      <td>2126.630029</td>\n",
              "      <td>2123.876701</td>\n",
              "      <td>2060.977021</td>\n",
              "      <td>462</td>\n",
              "    </tr>\n",
              "  </tbody>\n",
              "</table>\n",
              "</div>"
            ],
            "text/plain": [
              "                   High          Low  ...  MA for 50 days  Views\n",
              "Date                                  ...                       \n",
              "2020-09-07  2105.750000  2044.250000  ...     2022.474524    350\n",
              "2020-09-08  2121.000000  2080.500000  ...     2030.662019    331\n",
              "2020-09-09  2167.800049  2081.449951  ...     2039.267021    415\n",
              "2020-09-10  2344.949951  2175.350098  ...     2050.340022    572\n",
              "2020-09-11  2337.850098  2287.100098  ...     2060.977021    462\n",
              "\n",
              "[5 rows x 11 columns]"
            ]
          },
          "metadata": {
            "tags": []
          },
          "execution_count": 49
        }
      ]
    },
    {
      "cell_type": "markdown",
      "metadata": {
        "id": "vDGph0cBL4FH"
      },
      "source": [
        "# Formulas for the generated features\n",
        "- Functions"
      ]
    },
    {
      "cell_type": "code",
      "metadata": {
        "id": "5ZDRytLWLeVJ"
      },
      "source": [
        "#n means the time periods, Vt means the data point at period t."
      ],
      "execution_count": null,
      "outputs": []
    },
    {
      "cell_type": "code",
      "metadata": {
        "id": "RiGQDQm_xXiU"
      },
      "source": [
        "#1\n",
        "#Moving Average\n",
        "# MA(n)t = Vt/n + Vt−1/n + ···+ Vt−n+1/n\n"
      ],
      "execution_count": null,
      "outputs": []
    },
    {
      "cell_type": "code",
      "metadata": {
        "id": "yfwsVWaC4t1s"
      },
      "source": [
        "def movingAverage(df,colname,n,name):\n",
        "  df['MA'+name]=df[colname].rolling(window=n).mean()\n",
        "  return df"
      ],
      "execution_count": null,
      "outputs": []
    },
    {
      "cell_type": "code",
      "metadata": {
        "id": "onn7aB3b7N_w"
      },
      "source": [
        "#2\n",
        "#Exponential moving average\n",
        "#EMA(n)t = (Vt − (MA(n)t−1)) × ( 2/(n + 1)) + (MA(n)t−1)\n",
        "#Exponential weighted moving average"
      ],
      "execution_count": null,
      "outputs": []
    },
    {
      "cell_type": "code",
      "metadata": {
        "id": "QqtHbv_NFFzI"
      },
      "source": [
        "def movingExponentialAverage(df,colname,n,name):\n",
        "  df['EMA'+name]=[(df[colname][i]-df['MA'+name][i-1])*(2/(n+1))+ df['MA'+name][i-1] if i>1 else float('nan') for i in range(len(df))]\n",
        "  return df\n"
      ],
      "execution_count": null,
      "outputs": []
    },
    {
      "cell_type": "code",
      "metadata": {
        "id": "QiVNTJTyFXjI"
      },
      "source": [
        "#3\n",
        "#Disparity\n",
        "#Disparity(n)t = Vt/MA(n)t× 100"
      ],
      "execution_count": null,
      "outputs": []
    },
    {
      "cell_type": "code",
      "metadata": {
        "id": "V8tuX2lPFvpT"
      },
      "source": [
        "def disparity(df,colname,name):\n",
        "  df['Disparity'+name]=[df[colname][i]/(df['MA'+name][i] if df['MA'+name][i]!=0 else 1) for i in range(len(df))]\n",
        "  return df"
      ],
      "execution_count": null,
      "outputs": []
    },
    {
      "cell_type": "code",
      "metadata": {
        "id": "sn6CPHnzGOjt"
      },
      "source": [
        "#4\n",
        "#Momentum1\n",
        "#Momentum1t = (Vt/(Vt−5))× 100 'or' (Vt/(Vt−3))× 100\n"
      ],
      "execution_count": null,
      "outputs": []
    },
    {
      "cell_type": "code",
      "metadata": {
        "id": "EmxljMH9Gw6j"
      },
      "source": [
        "def momentum1(df,colname,name):\n",
        "  df['Momentum1'+name]=[float('nan') for i in range(3)]+[((df[colname][i])/    (df[colname][i-3]) if (df[colname][i-3])!=0 else 1    )*100 for i in range(3,len(df))]\n",
        "  return df"
      ],
      "execution_count": null,
      "outputs": []
    },
    {
      "cell_type": "code",
      "metadata": {
        "id": "yjBPrbZGIAQB"
      },
      "source": [
        "#5\n",
        "#Momentum2\n",
        "#Momentum2t = (Vt -(Vt−5))× 100"
      ],
      "execution_count": null,
      "outputs": []
    },
    {
      "cell_type": "code",
      "metadata": {
        "id": "mkQhq09AILKa"
      },
      "source": [
        "def momentum2(df,colname,name):\n",
        "  df['Momentum2'+name]=[float('nan') for i in range(5)]+[((df[colname][i])-(df[colname][i-5]))*100 for i in range(5,len(df))]\n",
        "  return df"
      ],
      "execution_count": null,
      "outputs": []
    },
    {
      "cell_type": "code",
      "metadata": {
        "id": "ppe5tpR7IN7j"
      },
      "source": [
        "#6\n",
        "#Rate Of Change:\n",
        "#ROCt = (Vt/Momentum2t)× 100"
      ],
      "execution_count": null,
      "outputs": []
    },
    {
      "cell_type": "code",
      "metadata": {
        "id": "aFIdqt5pKos5"
      },
      "source": [
        "def roct(df,colname,name):\n",
        "  df['Roct'+name]=[float('nan') for i in range(5)]+[((df[colname][i])/((df['Momentum2'+name][i]) +0 if df['Momentum2'+name][i]!=0 else 1) )*100 for i in range(5,len(df))]\n",
        "  return df"
      ],
      "execution_count": null,
      "outputs": []
    },
    {
      "cell_type": "code",
      "metadata": {
        "id": "rE-GvWXPLQbs"
      },
      "source": [
        "#7\n",
        "#Relative Strength Index:\n",
        "# RSI(n) = 100 − 100/(1 + (AverageGain(n)/AverageLoss(n)))"
      ],
      "execution_count": null,
      "outputs": []
    },
    {
      "cell_type": "code",
      "metadata": {
        "id": "M2EbOKwFxDVK",
        "outputId": "6dd990ff-7d7c-4d22-8122-5227984d2f67",
        "colab": {
          "base_uri": "https://localhost:8080/",
          "height": 272
        }
      },
      "source": [
        "!pip install --upgrade ta"
      ],
      "execution_count": null,
      "outputs": [
        {
          "output_type": "stream",
          "text": [
            "Collecting ta\n",
            "  Downloading https://files.pythonhosted.org/packages/90/ec/e4f5aea8c7f0f55f92b52ffbafa389ea82f3a10d9cab2760e40af34c5b3f/ta-0.5.25.tar.gz\n",
            "Requirement already satisfied, skipping upgrade: numpy in /usr/local/lib/python3.6/dist-packages (from ta) (1.18.5)\n",
            "Requirement already satisfied, skipping upgrade: pandas in /usr/local/lib/python3.6/dist-packages (from ta) (1.0.5)\n",
            "Requirement already satisfied, skipping upgrade: pytz>=2017.2 in /usr/local/lib/python3.6/dist-packages (from pandas->ta) (2018.9)\n",
            "Requirement already satisfied, skipping upgrade: python-dateutil>=2.6.1 in /usr/local/lib/python3.6/dist-packages (from pandas->ta) (2.8.1)\n",
            "Requirement already satisfied, skipping upgrade: six>=1.5 in /usr/local/lib/python3.6/dist-packages (from python-dateutil>=2.6.1->pandas->ta) (1.15.0)\n",
            "Building wheels for collected packages: ta\n",
            "  Building wheel for ta (setup.py) ... \u001b[?25l\u001b[?25hdone\n",
            "  Created wheel for ta: filename=ta-0.5.25-cp36-none-any.whl size=24880 sha256=7434e793ec068540f991cbc39cbb2a42a494fce2ba6c53e29b22f9ae5389448a\n",
            "  Stored in directory: /root/.cache/pip/wheels/2e/93/b7/cf649194508e53cee4145ffb949e9f26877a5a8dd12db9ed5b\n",
            "Successfully built ta\n",
            "Installing collected packages: ta\n",
            "Successfully installed ta-0.5.25\n"
          ],
          "name": "stdout"
        }
      ]
    },
    {
      "cell_type": "code",
      "metadata": {
        "id": "TIE-UR1vH84z"
      },
      "source": [
        "import ta\n",
        "def rsi(df,colname,name):\n",
        "  df['RSI'+name]=ta.momentum.RSIIndicator(close=df[colname], n = 14, fillna = False).rsi()\n",
        "  return df"
      ],
      "execution_count": null,
      "outputs": []
    },
    {
      "cell_type": "code",
      "metadata": {
        "id": "gLxeq_hfJmGE"
      },
      "source": [
        "#Stochastic Oscillator\n",
        "def so(df,name):\n",
        "  df['SO'+name]=ta.momentum.StochasticOscillator(high=df['High'], low=df['Low'], close=df['Close'], n = 14, d_n = 3, fillna = False).stoch()\n",
        "  return df \n"
      ],
      "execution_count": null,
      "outputs": []
    },
    {
      "cell_type": "code",
      "metadata": {
        "id": "GmGacs9GLC-E"
      },
      "source": [
        "#William R\n",
        "def william(df,name):\n",
        "  df['William'+name]=ta.momentum.WilliamsRIndicator(high=df['High'], low=df['Low'], close=df['Close'], lbp = 14, fillna = False).wr()\n",
        "  return df \n"
      ],
      "execution_count": null,
      "outputs": []
    },
    {
      "cell_type": "code",
      "metadata": {
        "id": "v5XTHojHC8Zr"
      },
      "source": [
        "#Atr\n",
        "def atr(df,name):\n",
        "  df['Atr'+name]=ta.volatility.AverageTrueRange(high=df['High'], low=df['Low'], close=df['Close'], n = 14, fillna = False).average_true_range()\n",
        "  return df "
      ],
      "execution_count": null,
      "outputs": []
    },
    {
      "cell_type": "code",
      "metadata": {
        "id": "3ijuR3pMEZ3Y"
      },
      "source": [
        "#Bollinger Band\n",
        "def bb(df,name):\n",
        "  df['Bb'+name]=ta.volatility.BollingerBands(close=df['Close'],n=14,ndev=2, fillna = False).bollinger_mavg()\n",
        "  return df "
      ],
      "execution_count": null,
      "outputs": []
    },
    {
      "cell_type": "code",
      "metadata": {
        "id": "Tgp5rbP6MViq"
      },
      "source": [
        "df=mainDataframe[stock_list[0]]"
      ],
      "execution_count": null,
      "outputs": []
    },
    {
      "cell_type": "code",
      "metadata": {
        "id": "s371t-y-ULQE",
        "outputId": "b0ce0ddc-0847-42ee-a8ef-25da37e85d55",
        "colab": {
          "base_uri": "https://localhost:8080/",
          "height": 326
        }
      },
      "source": [
        "df.tail()"
      ],
      "execution_count": null,
      "outputs": [
        {
          "output_type": "execute_result",
          "data": {
            "text/html": [
              "<div>\n",
              "<style scoped>\n",
              "    .dataframe tbody tr th:only-of-type {\n",
              "        vertical-align: middle;\n",
              "    }\n",
              "\n",
              "    .dataframe tbody tr th {\n",
              "        vertical-align: top;\n",
              "    }\n",
              "\n",
              "    .dataframe thead th {\n",
              "        text-align: right;\n",
              "    }\n",
              "</style>\n",
              "<table border=\"1\" class=\"dataframe\">\n",
              "  <thead>\n",
              "    <tr style=\"text-align: right;\">\n",
              "      <th></th>\n",
              "      <th>High</th>\n",
              "      <th>Low</th>\n",
              "      <th>Open</th>\n",
              "      <th>Close</th>\n",
              "      <th>Volume</th>\n",
              "      <th>Adj Close</th>\n",
              "      <th>Trend</th>\n",
              "      <th>MA for 20 days</th>\n",
              "      <th>MA for 30 days</th>\n",
              "      <th>MA for 50 days</th>\n",
              "      <th>Views</th>\n",
              "    </tr>\n",
              "    <tr>\n",
              "      <th>Date</th>\n",
              "      <th></th>\n",
              "      <th></th>\n",
              "      <th></th>\n",
              "      <th></th>\n",
              "      <th></th>\n",
              "      <th></th>\n",
              "      <th></th>\n",
              "      <th></th>\n",
              "      <th></th>\n",
              "      <th></th>\n",
              "      <th></th>\n",
              "    </tr>\n",
              "  </thead>\n",
              "  <tbody>\n",
              "    <tr>\n",
              "      <th>2020-09-07</th>\n",
              "      <td>2105.750000</td>\n",
              "      <td>2044.250000</td>\n",
              "      <td>2084.000000</td>\n",
              "      <td>2082.649902</td>\n",
              "      <td>10119064.0</td>\n",
              "      <td>2082.649902</td>\n",
              "      <td>100</td>\n",
              "      <td>2106.382532</td>\n",
              "      <td>2108.813363</td>\n",
              "      <td>2022.474524</td>\n",
              "      <td>350</td>\n",
              "    </tr>\n",
              "    <tr>\n",
              "      <th>2020-09-08</th>\n",
              "      <td>2121.000000</td>\n",
              "      <td>2080.500000</td>\n",
              "      <td>2092.000000</td>\n",
              "      <td>2107.100098</td>\n",
              "      <td>12643749.0</td>\n",
              "      <td>2107.100098</td>\n",
              "      <td>0</td>\n",
              "      <td>2105.047534</td>\n",
              "      <td>2106.460034</td>\n",
              "      <td>2030.662019</td>\n",
              "      <td>331</td>\n",
              "    </tr>\n",
              "    <tr>\n",
              "      <th>2020-09-09</th>\n",
              "      <td>2167.800049</td>\n",
              "      <td>2081.449951</td>\n",
              "      <td>2085.000000</td>\n",
              "      <td>2161.350098</td>\n",
              "      <td>25525961.0</td>\n",
              "      <td>2161.350098</td>\n",
              "      <td>0</td>\n",
              "      <td>2106.735034</td>\n",
              "      <td>2108.616707</td>\n",
              "      <td>2039.267021</td>\n",
              "      <td>415</td>\n",
              "    </tr>\n",
              "    <tr>\n",
              "      <th>2020-09-10</th>\n",
              "      <td>2344.949951</td>\n",
              "      <td>2175.350098</td>\n",
              "      <td>2183.100098</td>\n",
              "      <td>2314.000000</td>\n",
              "      <td>64750460.0</td>\n",
              "      <td>2314.000000</td>\n",
              "      <td>0</td>\n",
              "      <td>2116.332532</td>\n",
              "      <td>2115.455037</td>\n",
              "      <td>2050.340022</td>\n",
              "      <td>572</td>\n",
              "    </tr>\n",
              "    <tr>\n",
              "      <th>2020-09-11</th>\n",
              "      <td>2337.850098</td>\n",
              "      <td>2287.100098</td>\n",
              "      <td>2312.000000</td>\n",
              "      <td>2319.750000</td>\n",
              "      <td>27445768.0</td>\n",
              "      <td>2319.750000</td>\n",
              "      <td>58</td>\n",
              "      <td>2126.630029</td>\n",
              "      <td>2123.876701</td>\n",
              "      <td>2060.977021</td>\n",
              "      <td>462</td>\n",
              "    </tr>\n",
              "  </tbody>\n",
              "</table>\n",
              "</div>"
            ],
            "text/plain": [
              "                   High          Low  ...  MA for 50 days  Views\n",
              "Date                                  ...                       \n",
              "2020-09-07  2105.750000  2044.250000  ...     2022.474524    350\n",
              "2020-09-08  2121.000000  2080.500000  ...     2030.662019    331\n",
              "2020-09-09  2167.800049  2081.449951  ...     2039.267021    415\n",
              "2020-09-10  2344.949951  2175.350098  ...     2050.340022    572\n",
              "2020-09-11  2337.850098  2287.100098  ...     2060.977021    462\n",
              "\n",
              "[5 rows x 11 columns]"
            ]
          },
          "metadata": {
            "tags": []
          },
          "execution_count": 68
        }
      ]
    },
    {
      "cell_type": "code",
      "metadata": {
        "id": "nQfsYzMOLzQ2"
      },
      "source": [
        "df=movingAverage(df,'Views',3,'0')\n",
        "df=movingAverage(df,'Trend',3,'1')"
      ],
      "execution_count": null,
      "outputs": []
    },
    {
      "cell_type": "code",
      "metadata": {
        "id": "Dk6AWcBEM27e"
      },
      "source": [
        "df=movingExponentialAverage(df,'Views',3,'0')\n",
        "df=movingExponentialAverage(df,'Trend',3,'1')"
      ],
      "execution_count": null,
      "outputs": []
    },
    {
      "cell_type": "code",
      "metadata": {
        "id": "mGzh8J6sOg56"
      },
      "source": [
        "df=disparity(df,'Views','0')\n",
        "df=disparity(df,'Trend','1')"
      ],
      "execution_count": null,
      "outputs": []
    },
    {
      "cell_type": "code",
      "metadata": {
        "id": "yf3frW7OfVEq"
      },
      "source": [
        "df=momentum1(df,'Views','0')\n",
        "df=momentum1(df,'Trend','1')"
      ],
      "execution_count": null,
      "outputs": []
    },
    {
      "cell_type": "code",
      "metadata": {
        "id": "YSFfZwzafvQn"
      },
      "source": [
        "df=momentum2(df,'Views','0')\n",
        "df=momentum2(df,'Trend','1')"
      ],
      "execution_count": null,
      "outputs": []
    },
    {
      "cell_type": "code",
      "metadata": {
        "id": "k05noAkhgNIm"
      },
      "source": [
        "df=roct(df,'Views','0')\n",
        "df=roct(df,'Trend','1')"
      ],
      "execution_count": null,
      "outputs": []
    },
    {
      "cell_type": "code",
      "metadata": {
        "id": "Oe2z-UQ9gq3o"
      },
      "source": [
        "df=rsi(df,'Views','0')\n",
        "df=rsi(df,'Trend','1')\n",
        "df=rsi(df,'Close','2')"
      ],
      "execution_count": null,
      "outputs": []
    },
    {
      "cell_type": "code",
      "metadata": {
        "id": "WUQ9gzyMKW6e"
      },
      "source": [
        "df=so(df,'1')"
      ],
      "execution_count": null,
      "outputs": []
    },
    {
      "cell_type": "code",
      "metadata": {
        "id": "_dV0tE-uLbDD"
      },
      "source": [
        "df=william(df,'1')"
      ],
      "execution_count": null,
      "outputs": []
    },
    {
      "cell_type": "code",
      "metadata": {
        "id": "eVJxGJTLDOMF"
      },
      "source": [
        "df=atr(df,'1')"
      ],
      "execution_count": null,
      "outputs": []
    },
    {
      "cell_type": "code",
      "metadata": {
        "id": "9MmF8Pw1E6CA"
      },
      "source": [
        "df=bb(df,'1')"
      ],
      "execution_count": null,
      "outputs": []
    },
    {
      "cell_type": "code",
      "metadata": {
        "id": "De33dSrr9TXw"
      },
      "source": [
        "df=df.iloc[50:,:]"
      ],
      "execution_count": null,
      "outputs": []
    },
    {
      "cell_type": "code",
      "metadata": {
        "id": "64Y497Lg8RVw",
        "outputId": "458ee096-1ea5-4227-fe9b-b5a66e44f44a",
        "colab": {
          "base_uri": "https://localhost:8080/",
          "height": 418
        }
      },
      "source": [
        "df.head(7)"
      ],
      "execution_count": null,
      "outputs": [
        {
          "output_type": "execute_result",
          "data": {
            "text/html": [
              "<div>\n",
              "<style scoped>\n",
              "    .dataframe tbody tr th:only-of-type {\n",
              "        vertical-align: middle;\n",
              "    }\n",
              "\n",
              "    .dataframe tbody tr th {\n",
              "        vertical-align: top;\n",
              "    }\n",
              "\n",
              "    .dataframe thead th {\n",
              "        text-align: right;\n",
              "    }\n",
              "</style>\n",
              "<table border=\"1\" class=\"dataframe\">\n",
              "  <thead>\n",
              "    <tr style=\"text-align: right;\">\n",
              "      <th></th>\n",
              "      <th>High</th>\n",
              "      <th>Low</th>\n",
              "      <th>Open</th>\n",
              "      <th>Close</th>\n",
              "      <th>Volume</th>\n",
              "      <th>Adj Close</th>\n",
              "      <th>Trend</th>\n",
              "      <th>MA for 20 days</th>\n",
              "      <th>MA for 30 days</th>\n",
              "      <th>MA for 50 days</th>\n",
              "      <th>Views</th>\n",
              "    </tr>\n",
              "    <tr>\n",
              "      <th>Date</th>\n",
              "      <th></th>\n",
              "      <th></th>\n",
              "      <th></th>\n",
              "      <th></th>\n",
              "      <th></th>\n",
              "      <th></th>\n",
              "      <th></th>\n",
              "      <th></th>\n",
              "      <th></th>\n",
              "      <th></th>\n",
              "      <th></th>\n",
              "    </tr>\n",
              "  </thead>\n",
              "  <tbody>\n",
              "    <tr>\n",
              "      <th>2019-07-16</th>\n",
              "      <td>1294.900024</td>\n",
              "      <td>1277.050049</td>\n",
              "      <td>1279.949951</td>\n",
              "      <td>1293.000000</td>\n",
              "      <td>4604019.0</td>\n",
              "      <td>1281.135498</td>\n",
              "      <td>0</td>\n",
              "      <td>NaN</td>\n",
              "      <td>NaN</td>\n",
              "      <td>NaN</td>\n",
              "      <td>2273</td>\n",
              "    </tr>\n",
              "    <tr>\n",
              "      <th>2019-07-17</th>\n",
              "      <td>1297.000000</td>\n",
              "      <td>1280.000000</td>\n",
              "      <td>1294.300049</td>\n",
              "      <td>1281.849976</td>\n",
              "      <td>4334958.0</td>\n",
              "      <td>1270.087646</td>\n",
              "      <td>0</td>\n",
              "      <td>NaN</td>\n",
              "      <td>NaN</td>\n",
              "      <td>NaN</td>\n",
              "      <td>2530</td>\n",
              "    </tr>\n",
              "    <tr>\n",
              "      <th>2019-07-18</th>\n",
              "      <td>1286.400024</td>\n",
              "      <td>1258.000000</td>\n",
              "      <td>1282.000000</td>\n",
              "      <td>1261.849976</td>\n",
              "      <td>5459896.0</td>\n",
              "      <td>1250.271240</td>\n",
              "      <td>0</td>\n",
              "      <td>NaN</td>\n",
              "      <td>NaN</td>\n",
              "      <td>NaN</td>\n",
              "      <td>2725</td>\n",
              "    </tr>\n",
              "    <tr>\n",
              "      <th>2019-07-19</th>\n",
              "      <td>1272.949951</td>\n",
              "      <td>1242.699951</td>\n",
              "      <td>1268.199951</td>\n",
              "      <td>1249.000000</td>\n",
              "      <td>7468515.0</td>\n",
              "      <td>1237.539185</td>\n",
              "      <td>34</td>\n",
              "      <td>NaN</td>\n",
              "      <td>NaN</td>\n",
              "      <td>NaN</td>\n",
              "      <td>2970</td>\n",
              "    </tr>\n",
              "    <tr>\n",
              "      <th>2019-07-22</th>\n",
              "      <td>1284.500000</td>\n",
              "      <td>1227.300049</td>\n",
              "      <td>1251.000000</td>\n",
              "      <td>1280.500000</td>\n",
              "      <td>13300153.0</td>\n",
              "      <td>1268.750122</td>\n",
              "      <td>34</td>\n",
              "      <td>NaN</td>\n",
              "      <td>NaN</td>\n",
              "      <td>NaN</td>\n",
              "      <td>2641</td>\n",
              "    </tr>\n",
              "    <tr>\n",
              "      <th>2019-07-23</th>\n",
              "      <td>1293.900024</td>\n",
              "      <td>1260.400024</td>\n",
              "      <td>1285.000000</td>\n",
              "      <td>1273.550049</td>\n",
              "      <td>9287951.0</td>\n",
              "      <td>1261.864014</td>\n",
              "      <td>33</td>\n",
              "      <td>NaN</td>\n",
              "      <td>NaN</td>\n",
              "      <td>NaN</td>\n",
              "      <td>2814</td>\n",
              "    </tr>\n",
              "    <tr>\n",
              "      <th>2019-07-24</th>\n",
              "      <td>1278.800049</td>\n",
              "      <td>1253.550049</td>\n",
              "      <td>1273.500000</td>\n",
              "      <td>1259.099976</td>\n",
              "      <td>6943982.0</td>\n",
              "      <td>1247.546387</td>\n",
              "      <td>0</td>\n",
              "      <td>NaN</td>\n",
              "      <td>NaN</td>\n",
              "      <td>NaN</td>\n",
              "      <td>2953</td>\n",
              "    </tr>\n",
              "  </tbody>\n",
              "</table>\n",
              "</div>"
            ],
            "text/plain": [
              "                   High          Low  ...  MA for 50 days  Views\n",
              "Date                                  ...                       \n",
              "2019-07-16  1294.900024  1277.050049  ...             NaN   2273\n",
              "2019-07-17  1297.000000  1280.000000  ...             NaN   2530\n",
              "2019-07-18  1286.400024  1258.000000  ...             NaN   2725\n",
              "2019-07-19  1272.949951  1242.699951  ...             NaN   2970\n",
              "2019-07-22  1284.500000  1227.300049  ...             NaN   2641\n",
              "2019-07-23  1293.900024  1260.400024  ...             NaN   2814\n",
              "2019-07-24  1278.800049  1253.550049  ...             NaN   2953\n",
              "\n",
              "[7 rows x 11 columns]"
            ]
          },
          "metadata": {
            "tags": []
          },
          "execution_count": 69
        }
      ]
    },
    {
      "cell_type": "code",
      "metadata": {
        "id": "al_Qxk9gIrLt"
      },
      "source": [
        "import pandas as pd\n",
        "from sklearn.linear_model import LinearRegression\n",
        "from sklearn.model_selection import train_test_split\n",
        "import matplotlib.pyplot as plt\n",
        "import numpy as np\n",
        "import pandas_datareader as web"
      ],
      "execution_count": null,
      "outputs": []
    },
    {
      "cell_type": "code",
      "metadata": {
        "id": "J65ZtbA8tU4L",
        "outputId": "3c669fea-1d31-4ae8-ba8f-69e1f8dfed87",
        "colab": {
          "base_uri": "https://localhost:8080/",
          "height": 373
        }
      },
      "source": [
        "corr = df.corr(method='pearson')\n",
        "corr"
      ],
      "execution_count": null,
      "outputs": [
        {
          "output_type": "execute_result",
          "data": {
            "text/html": [
              "<div>\n",
              "<style scoped>\n",
              "    .dataframe tbody tr th:only-of-type {\n",
              "        vertical-align: middle;\n",
              "    }\n",
              "\n",
              "    .dataframe tbody tr th {\n",
              "        vertical-align: top;\n",
              "    }\n",
              "\n",
              "    .dataframe thead th {\n",
              "        text-align: right;\n",
              "    }\n",
              "</style>\n",
              "<table border=\"1\" class=\"dataframe\">\n",
              "  <thead>\n",
              "    <tr style=\"text-align: right;\">\n",
              "      <th></th>\n",
              "      <th>High</th>\n",
              "      <th>Low</th>\n",
              "      <th>Open</th>\n",
              "      <th>Close</th>\n",
              "      <th>Volume</th>\n",
              "      <th>Adj Close</th>\n",
              "      <th>Trend</th>\n",
              "      <th>MA for 20 days</th>\n",
              "      <th>MA for 30 days</th>\n",
              "      <th>MA for 50 days</th>\n",
              "      <th>Views</th>\n",
              "    </tr>\n",
              "  </thead>\n",
              "  <tbody>\n",
              "    <tr>\n",
              "      <th>High</th>\n",
              "      <td>1.000000</td>\n",
              "      <td>0.995281</td>\n",
              "      <td>0.996022</td>\n",
              "      <td>0.997967</td>\n",
              "      <td>0.269215</td>\n",
              "      <td>0.998037</td>\n",
              "      <td>0.007510</td>\n",
              "      <td>0.946945</td>\n",
              "      <td>0.908973</td>\n",
              "      <td>0.819218</td>\n",
              "      <td>-0.637241</td>\n",
              "    </tr>\n",
              "    <tr>\n",
              "      <th>Low</th>\n",
              "      <td>0.995281</td>\n",
              "      <td>1.000000</td>\n",
              "      <td>0.997591</td>\n",
              "      <td>0.996897</td>\n",
              "      <td>0.194455</td>\n",
              "      <td>0.996764</td>\n",
              "      <td>0.014934</td>\n",
              "      <td>0.945462</td>\n",
              "      <td>0.905381</td>\n",
              "      <td>0.809881</td>\n",
              "      <td>-0.633748</td>\n",
              "    </tr>\n",
              "    <tr>\n",
              "      <th>Open</th>\n",
              "      <td>0.996022</td>\n",
              "      <td>0.997591</td>\n",
              "      <td>1.000000</td>\n",
              "      <td>0.994026</td>\n",
              "      <td>0.216770</td>\n",
              "      <td>0.994000</td>\n",
              "      <td>0.012738</td>\n",
              "      <td>0.948056</td>\n",
              "      <td>0.908964</td>\n",
              "      <td>0.816090</td>\n",
              "      <td>-0.637598</td>\n",
              "    </tr>\n",
              "    <tr>\n",
              "      <th>Close</th>\n",
              "      <td>0.997967</td>\n",
              "      <td>0.996897</td>\n",
              "      <td>0.994026</td>\n",
              "      <td>1.000000</td>\n",
              "      <td>0.239250</td>\n",
              "      <td>0.999979</td>\n",
              "      <td>0.008978</td>\n",
              "      <td>0.944731</td>\n",
              "      <td>0.905940</td>\n",
              "      <td>0.813518</td>\n",
              "      <td>-0.635619</td>\n",
              "    </tr>\n",
              "    <tr>\n",
              "      <th>Volume</th>\n",
              "      <td>0.269215</td>\n",
              "      <td>0.194455</td>\n",
              "      <td>0.216770</td>\n",
              "      <td>0.239250</td>\n",
              "      <td>1.000000</td>\n",
              "      <td>0.240898</td>\n",
              "      <td>-0.034940</td>\n",
              "      <td>0.131550</td>\n",
              "      <td>0.103025</td>\n",
              "      <td>0.076972</td>\n",
              "      <td>0.068112</td>\n",
              "    </tr>\n",
              "    <tr>\n",
              "      <th>Adj Close</th>\n",
              "      <td>0.998037</td>\n",
              "      <td>0.996764</td>\n",
              "      <td>0.994000</td>\n",
              "      <td>0.999979</td>\n",
              "      <td>0.240898</td>\n",
              "      <td>1.000000</td>\n",
              "      <td>0.009138</td>\n",
              "      <td>0.945178</td>\n",
              "      <td>0.906671</td>\n",
              "      <td>0.814917</td>\n",
              "      <td>-0.636344</td>\n",
              "    </tr>\n",
              "    <tr>\n",
              "      <th>Trend</th>\n",
              "      <td>0.007510</td>\n",
              "      <td>0.014934</td>\n",
              "      <td>0.012738</td>\n",
              "      <td>0.008978</td>\n",
              "      <td>-0.034940</td>\n",
              "      <td>0.009138</td>\n",
              "      <td>1.000000</td>\n",
              "      <td>-0.011497</td>\n",
              "      <td>0.007666</td>\n",
              "      <td>0.003535</td>\n",
              "      <td>0.082044</td>\n",
              "    </tr>\n",
              "    <tr>\n",
              "      <th>MA for 20 days</th>\n",
              "      <td>0.946945</td>\n",
              "      <td>0.945462</td>\n",
              "      <td>0.948056</td>\n",
              "      <td>0.944731</td>\n",
              "      <td>0.131550</td>\n",
              "      <td>0.945178</td>\n",
              "      <td>-0.011497</td>\n",
              "      <td>1.000000</td>\n",
              "      <td>0.987834</td>\n",
              "      <td>0.926198</td>\n",
              "      <td>-0.712070</td>\n",
              "    </tr>\n",
              "    <tr>\n",
              "      <th>MA for 30 days</th>\n",
              "      <td>0.908973</td>\n",
              "      <td>0.905381</td>\n",
              "      <td>0.908964</td>\n",
              "      <td>0.905940</td>\n",
              "      <td>0.103025</td>\n",
              "      <td>0.906671</td>\n",
              "      <td>0.007666</td>\n",
              "      <td>0.987834</td>\n",
              "      <td>1.000000</td>\n",
              "      <td>0.966667</td>\n",
              "      <td>-0.732741</td>\n",
              "    </tr>\n",
              "    <tr>\n",
              "      <th>MA for 50 days</th>\n",
              "      <td>0.819218</td>\n",
              "      <td>0.809881</td>\n",
              "      <td>0.816090</td>\n",
              "      <td>0.813518</td>\n",
              "      <td>0.076972</td>\n",
              "      <td>0.814917</td>\n",
              "      <td>0.003535</td>\n",
              "      <td>0.926198</td>\n",
              "      <td>0.966667</td>\n",
              "      <td>1.000000</td>\n",
              "      <td>-0.701091</td>\n",
              "    </tr>\n",
              "    <tr>\n",
              "      <th>Views</th>\n",
              "      <td>-0.637241</td>\n",
              "      <td>-0.633748</td>\n",
              "      <td>-0.637598</td>\n",
              "      <td>-0.635619</td>\n",
              "      <td>0.068112</td>\n",
              "      <td>-0.636344</td>\n",
              "      <td>0.082044</td>\n",
              "      <td>-0.712070</td>\n",
              "      <td>-0.732741</td>\n",
              "      <td>-0.701091</td>\n",
              "      <td>1.000000</td>\n",
              "    </tr>\n",
              "  </tbody>\n",
              "</table>\n",
              "</div>"
            ],
            "text/plain": [
              "                    High       Low  ...  MA for 50 days     Views\n",
              "High            1.000000  0.995281  ...        0.819218 -0.637241\n",
              "Low             0.995281  1.000000  ...        0.809881 -0.633748\n",
              "Open            0.996022  0.997591  ...        0.816090 -0.637598\n",
              "Close           0.997967  0.996897  ...        0.813518 -0.635619\n",
              "Volume          0.269215  0.194455  ...        0.076972  0.068112\n",
              "Adj Close       0.998037  0.996764  ...        0.814917 -0.636344\n",
              "Trend           0.007510  0.014934  ...        0.003535  0.082044\n",
              "MA for 20 days  0.946945  0.945462  ...        0.926198 -0.712070\n",
              "MA for 30 days  0.908973  0.905381  ...        0.966667 -0.732741\n",
              "MA for 50 days  0.819218  0.809881  ...        1.000000 -0.701091\n",
              "Views          -0.637241 -0.633748  ...       -0.701091  1.000000\n",
              "\n",
              "[11 rows x 11 columns]"
            ]
          },
          "metadata": {
            "tags": []
          },
          "execution_count": 71
        }
      ]
    },
    {
      "cell_type": "code",
      "metadata": {
        "id": "MIVoBWpwveu9",
        "outputId": "beeffb60-b3b4-4dab-885a-a9ee499511b5",
        "colab": {
          "base_uri": "https://localhost:8080/",
          "height": 657
        }
      },
      "source": [
        "#Using Pearson Correlation\n",
        "plt.figure(figsize=(12,10))\n",
        "cor = df.corr()\n",
        "sns.heatmap(cor, annot=True, cmap=plt.cm.Reds)\n",
        "plt.show()"
      ],
      "execution_count": null,
      "outputs": [
        {
          "output_type": "display_data",
          "data": {
            "image/png": "[encoded data removed]",
            "text/plain": [
              "<Figure size 864x720 with 2 Axes>"
            ]
          },
          "metadata": {
            "tags": [],
            "needs_background": "light"
          }
        }
      ]
    },
    {
      "cell_type": "code",
      "metadata": {
        "id": "tFI26XfSB1yH",
        "outputId": "2dd77104-9f0f-4bad-8c4f-4006f4f99aee",
        "colab": {
          "base_uri": "https://localhost:8080/",
          "height": 185
        }
      },
      "source": [
        "#Correlation with output variable\n",
        "cor_target = abs(cor[\"Close\"])\n",
        "#Selecting less correlated features\n",
        "relevant_features = cor_target[cor_target>0.6]\n",
        "relevant_features"
      ],
      "execution_count": null,
      "outputs": [
        {
          "output_type": "execute_result",
          "data": {
            "text/plain": [
              "High              0.997967\n",
              "Low               0.996897\n",
              "Open              0.994026\n",
              "Close             1.000000\n",
              "Adj Close         0.999979\n",
              "MA for 20 days    0.944731\n",
              "MA for 30 days    0.905940\n",
              "MA for 50 days    0.813518\n",
              "Views             0.635619\n",
              "Name: Close, dtype: float64"
            ]
          },
          "metadata": {
            "tags": []
          },
          "execution_count": 73
        }
      ]
    },
    {
      "cell_type": "code",
      "metadata": {
        "id": "88hH6giyBo5z",
        "outputId": "cd46956d-29b4-4628-a8a1-f90da06c8842",
        "colab": {
          "base_uri": "https://localhost:8080/",
          "height": 185
        }
      },
      "source": [
        "#Correlation with output variable\n",
        "cor_target = abs(cor[\"Views\"])\n",
        "#Selecting less correlated features\n",
        "relevant_features = cor_target[cor_target>0.6]\n",
        "relevant_features"
      ],
      "execution_count": null,
      "outputs": [
        {
          "output_type": "execute_result",
          "data": {
            "text/plain": [
              "High              0.637241\n",
              "Low               0.633748\n",
              "Open              0.637598\n",
              "Close             0.635619\n",
              "Adj Close         0.636344\n",
              "MA for 20 days    0.712070\n",
              "MA for 30 days    0.732741\n",
              "MA for 50 days    0.701091\n",
              "Views             1.000000\n",
              "Name: Views, dtype: float64"
            ]
          },
          "metadata": {
            "tags": []
          },
          "execution_count": 74
        }
      ]
    },
    {
      "cell_type": "code",
      "metadata": {
        "id": "wuaCcBuxBr-M",
        "outputId": "891d903b-97b8-4fde-9264-5e06c598f00d",
        "colab": {
          "base_uri": "https://localhost:8080/",
          "height": 50
        }
      },
      "source": [
        "#Correlation with output variable\n",
        "cor_target = abs(cor[\"Trend\"])\n",
        "#Selecting less correlated features\n",
        "relevant_features = cor_target[cor_target>0.6]\n",
        "relevant_features\n"
      ],
      "execution_count": null,
      "outputs": [
        {
          "output_type": "execute_result",
          "data": {
            "text/plain": [
              "Trend    1.0\n",
              "Name: Trend, dtype: float64"
            ]
          },
          "metadata": {
            "tags": []
          },
          "execution_count": 75
        }
      ]
    },
    {
      "cell_type": "code",
      "metadata": {
        "id": "UW4uHqOwgcq8"
      },
      "source": [
        "#parameters=['Close','High','Low','Open','Volume','Adj Close','Trend','Views','MA for 30 days','MA for 50 days''MA for 20 days','MA0','EMA0','RSI0','William1','SO1','Atr1','Bb1']#['Close','High','Low','Open','Volume','Adj Close','Trend','Views','MA for 30 days','MA for 50 days''MA for 20 days','MA0','EMA0','RSI0','Momentum10','Momentum20','Disparity0','William1','MA1','EMA1','RSI1','Momentum11','Momentum21','Disparity1','SO1']#'Roct' #['High','Low','Open','Close','Volume','Adj Close']#['High','Low','Open','Close','Volume','Adj Close','Views','MA for 50 days','MA','EMA','Disparity','Momentum1','Momentum2']  #['High','Low','Open','Volume','Views'] #['High','Low','Open','Close','Volume','Adj Close','Views'] "
      ],
      "execution_count": null,
      "outputs": []
    },
    {
      "cell_type": "code",
      "metadata": {
        "id": "zWnsXeh2uqL6"
      },
      "source": [
        "# Below paramter is as of research paper for target-3"
      ],
      "execution_count": null,
      "outputs": []
    },
    {
      "cell_type": "code",
      "metadata": {
        "id": "sqLsqbnaHO5v"
      },
      "source": [
        "parameters=['Close','Open','High','Volume','Adj Close','So1','Momentum10','Views','MA0','EMA0','Roct0','EMA1','Disparity1','Roct1','RSI1','Disparity0','RSI2','RSI0','Trend','MA1','William1','Atr1','Bb1']"
      ],
      "execution_count": null,
      "outputs": []
    },
    {
      "cell_type": "code",
      "metadata": {
        "id": "NbbA84_iLebi"
      },
      "source": [
        "#parameters=['Close','Open','High','Volume','Adj Close','Momentum10','Views','MA0','EMA0','Roct0','Disparity0','RSI2','RSI0','William1','Atr1','Bb1']"
      ],
      "execution_count": null,
      "outputs": []
    },
    {
      "cell_type": "code",
      "metadata": {
        "id": "mgNaTcrSunlF"
      },
      "source": [
        "#parameters=['Close','Open','High','Volume','Adj Close','William1','Atr1','Bb1','RSI2']"
      ],
      "execution_count": null,
      "outputs": []
    },
    {
      "cell_type": "code",
      "metadata": {
        "id": "RhiXH_UNC6n8",
        "outputId": "0448e7c0-c256-4157-f2fc-37337058d97b",
        "colab": {
          "base_uri": "https://localhost:8080/",
          "height": 616
        }
      },
      "source": [
        "df"
      ],
      "execution_count": null,
      "outputs": [
        {
          "output_type": "execute_result",
          "data": {
            "text/html": [
              "<div>\n",
              "<style scoped>\n",
              "    .dataframe tbody tr th:only-of-type {\n",
              "        vertical-align: middle;\n",
              "    }\n",
              "\n",
              "    .dataframe tbody tr th {\n",
              "        vertical-align: top;\n",
              "    }\n",
              "\n",
              "    .dataframe thead th {\n",
              "        text-align: right;\n",
              "    }\n",
              "</style>\n",
              "<table border=\"1\" class=\"dataframe\">\n",
              "  <thead>\n",
              "    <tr style=\"text-align: right;\">\n",
              "      <th></th>\n",
              "      <th>High</th>\n",
              "      <th>Low</th>\n",
              "      <th>Open</th>\n",
              "      <th>Close</th>\n",
              "      <th>Volume</th>\n",
              "      <th>Adj Close</th>\n",
              "      <th>Trend</th>\n",
              "      <th>MA for 20 days</th>\n",
              "      <th>MA for 30 days</th>\n",
              "      <th>MA for 50 days</th>\n",
              "      <th>Views</th>\n",
              "    </tr>\n",
              "    <tr>\n",
              "      <th>Date</th>\n",
              "      <th></th>\n",
              "      <th></th>\n",
              "      <th></th>\n",
              "      <th></th>\n",
              "      <th></th>\n",
              "      <th></th>\n",
              "      <th></th>\n",
              "      <th></th>\n",
              "      <th></th>\n",
              "      <th></th>\n",
              "      <th></th>\n",
              "    </tr>\n",
              "  </thead>\n",
              "  <tbody>\n",
              "    <tr>\n",
              "      <th>2019-07-16</th>\n",
              "      <td>1294.900024</td>\n",
              "      <td>1277.050049</td>\n",
              "      <td>1279.949951</td>\n",
              "      <td>1293.000000</td>\n",
              "      <td>4604019.0</td>\n",
              "      <td>1281.135498</td>\n",
              "      <td>0</td>\n",
              "      <td>NaN</td>\n",
              "      <td>NaN</td>\n",
              "      <td>NaN</td>\n",
              "      <td>2273</td>\n",
              "    </tr>\n",
              "    <tr>\n",
              "      <th>2019-07-17</th>\n",
              "      <td>1297.000000</td>\n",
              "      <td>1280.000000</td>\n",
              "      <td>1294.300049</td>\n",
              "      <td>1281.849976</td>\n",
              "      <td>4334958.0</td>\n",
              "      <td>1270.087646</td>\n",
              "      <td>0</td>\n",
              "      <td>NaN</td>\n",
              "      <td>NaN</td>\n",
              "      <td>NaN</td>\n",
              "      <td>2530</td>\n",
              "    </tr>\n",
              "    <tr>\n",
              "      <th>2019-07-18</th>\n",
              "      <td>1286.400024</td>\n",
              "      <td>1258.000000</td>\n",
              "      <td>1282.000000</td>\n",
              "      <td>1261.849976</td>\n",
              "      <td>5459896.0</td>\n",
              "      <td>1250.271240</td>\n",
              "      <td>0</td>\n",
              "      <td>NaN</td>\n",
              "      <td>NaN</td>\n",
              "      <td>NaN</td>\n",
              "      <td>2725</td>\n",
              "    </tr>\n",
              "    <tr>\n",
              "      <th>2019-07-19</th>\n",
              "      <td>1272.949951</td>\n",
              "      <td>1242.699951</td>\n",
              "      <td>1268.199951</td>\n",
              "      <td>1249.000000</td>\n",
              "      <td>7468515.0</td>\n",
              "      <td>1237.539185</td>\n",
              "      <td>34</td>\n",
              "      <td>NaN</td>\n",
              "      <td>NaN</td>\n",
              "      <td>NaN</td>\n",
              "      <td>2970</td>\n",
              "    </tr>\n",
              "    <tr>\n",
              "      <th>2019-07-22</th>\n",
              "      <td>1284.500000</td>\n",
              "      <td>1227.300049</td>\n",
              "      <td>1251.000000</td>\n",
              "      <td>1280.500000</td>\n",
              "      <td>13300153.0</td>\n",
              "      <td>1268.750122</td>\n",
              "      <td>34</td>\n",
              "      <td>NaN</td>\n",
              "      <td>NaN</td>\n",
              "      <td>NaN</td>\n",
              "      <td>2641</td>\n",
              "    </tr>\n",
              "    <tr>\n",
              "      <th>...</th>\n",
              "      <td>...</td>\n",
              "      <td>...</td>\n",
              "      <td>...</td>\n",
              "      <td>...</td>\n",
              "      <td>...</td>\n",
              "      <td>...</td>\n",
              "      <td>...</td>\n",
              "      <td>...</td>\n",
              "      <td>...</td>\n",
              "      <td>...</td>\n",
              "      <td>...</td>\n",
              "    </tr>\n",
              "    <tr>\n",
              "      <th>2020-09-07</th>\n",
              "      <td>2105.750000</td>\n",
              "      <td>2044.250000</td>\n",
              "      <td>2084.000000</td>\n",
              "      <td>2082.649902</td>\n",
              "      <td>10119064.0</td>\n",
              "      <td>2082.649902</td>\n",
              "      <td>100</td>\n",
              "      <td>2106.382532</td>\n",
              "      <td>2108.813363</td>\n",
              "      <td>2022.474524</td>\n",
              "      <td>350</td>\n",
              "    </tr>\n",
              "    <tr>\n",
              "      <th>2020-09-08</th>\n",
              "      <td>2121.000000</td>\n",
              "      <td>2080.500000</td>\n",
              "      <td>2092.000000</td>\n",
              "      <td>2107.100098</td>\n",
              "      <td>12643749.0</td>\n",
              "      <td>2107.100098</td>\n",
              "      <td>0</td>\n",
              "      <td>2105.047534</td>\n",
              "      <td>2106.460034</td>\n",
              "      <td>2030.662019</td>\n",
              "      <td>331</td>\n",
              "    </tr>\n",
              "    <tr>\n",
              "      <th>2020-09-09</th>\n",
              "      <td>2167.800049</td>\n",
              "      <td>2081.449951</td>\n",
              "      <td>2085.000000</td>\n",
              "      <td>2161.350098</td>\n",
              "      <td>25525961.0</td>\n",
              "      <td>2161.350098</td>\n",
              "      <td>0</td>\n",
              "      <td>2106.735034</td>\n",
              "      <td>2108.616707</td>\n",
              "      <td>2039.267021</td>\n",
              "      <td>415</td>\n",
              "    </tr>\n",
              "    <tr>\n",
              "      <th>2020-09-10</th>\n",
              "      <td>2344.949951</td>\n",
              "      <td>2175.350098</td>\n",
              "      <td>2183.100098</td>\n",
              "      <td>2314.000000</td>\n",
              "      <td>64750460.0</td>\n",
              "      <td>2314.000000</td>\n",
              "      <td>0</td>\n",
              "      <td>2116.332532</td>\n",
              "      <td>2115.455037</td>\n",
              "      <td>2050.340022</td>\n",
              "      <td>572</td>\n",
              "    </tr>\n",
              "    <tr>\n",
              "      <th>2020-09-11</th>\n",
              "      <td>2337.850098</td>\n",
              "      <td>2287.100098</td>\n",
              "      <td>2312.000000</td>\n",
              "      <td>2319.750000</td>\n",
              "      <td>27445768.0</td>\n",
              "      <td>2319.750000</td>\n",
              "      <td>58</td>\n",
              "      <td>2126.630029</td>\n",
              "      <td>2123.876701</td>\n",
              "      <td>2060.977021</td>\n",
              "      <td>462</td>\n",
              "    </tr>\n",
              "  </tbody>\n",
              "</table>\n",
              "<p>286 rows × 11 columns</p>\n",
              "</div>"
            ],
            "text/plain": [
              "                   High          Low  ...  MA for 50 days  Views\n",
              "Date                                  ...                       \n",
              "2019-07-16  1294.900024  1277.050049  ...             NaN   2273\n",
              "2019-07-17  1297.000000  1280.000000  ...             NaN   2530\n",
              "2019-07-18  1286.400024  1258.000000  ...             NaN   2725\n",
              "2019-07-19  1272.949951  1242.699951  ...             NaN   2970\n",
              "2019-07-22  1284.500000  1227.300049  ...             NaN   2641\n",
              "...                 ...          ...  ...             ...    ...\n",
              "2020-09-07  2105.750000  2044.250000  ...     2022.474524    350\n",
              "2020-09-08  2121.000000  2080.500000  ...     2030.662019    331\n",
              "2020-09-09  2167.800049  2081.449951  ...     2039.267021    415\n",
              "2020-09-10  2344.949951  2175.350098  ...     2050.340022    572\n",
              "2020-09-11  2337.850098  2287.100098  ...     2060.977021    462\n",
              "\n",
              "[286 rows x 11 columns]"
            ]
          },
          "metadata": {
            "tags": []
          },
          "execution_count": 78
        }
      ]
    },
    {
      "cell_type": "code",
      "metadata": {
        "id": "UN1IugRCDAqP"
      },
      "source": [
        "data=df.filter(parameters)"
      ],
      "execution_count": null,
      "outputs": []
    },
    {
      "cell_type": "code",
      "metadata": {
        "id": "lfu7jg9Vgqnt"
      },
      "source": [
        "df['Close1']=df['Close']"
      ],
      "execution_count": null,
      "outputs": []
    },
    {
      "cell_type": "code",
      "metadata": {
        "id": "xlFXOiNgDIt8"
      },
      "source": [
        "data = df"
      ],
      "execution_count": null,
      "outputs": []
    },
    {
      "cell_type": "code",
      "metadata": {
        "id": "3arzPLY-ProK"
      },
      "source": [
        "data['Close']=data['Close'].shift(-1)\n",
        "#data['Adj Close']=data['Adj Close'].shift(-1)"
      ],
      "execution_count": null,
      "outputs": []
    },
    {
      "cell_type": "code",
      "metadata": {
        "id": "Kz7hhpnLPADI",
        "outputId": "33a67446-3220-43b7-ffad-816ada813fe4",
        "colab": {
          "base_uri": "https://localhost:8080/",
          "height": 326
        }
      },
      "source": [
        "data=data.iloc[:-1,:]\n",
        "data.tail()"
      ],
      "execution_count": null,
      "outputs": [
        {
          "output_type": "execute_result",
          "data": {
            "text/html": [
              "<div>\n",
              "<style scoped>\n",
              "    .dataframe tbody tr th:only-of-type {\n",
              "        vertical-align: middle;\n",
              "    }\n",
              "\n",
              "    .dataframe tbody tr th {\n",
              "        vertical-align: top;\n",
              "    }\n",
              "\n",
              "    .dataframe thead th {\n",
              "        text-align: right;\n",
              "    }\n",
              "</style>\n",
              "<table border=\"1\" class=\"dataframe\">\n",
              "  <thead>\n",
              "    <tr style=\"text-align: right;\">\n",
              "      <th></th>\n",
              "      <th>High</th>\n",
              "      <th>Low</th>\n",
              "      <th>Open</th>\n",
              "      <th>Close</th>\n",
              "      <th>Volume</th>\n",
              "      <th>Adj Close</th>\n",
              "      <th>Trend</th>\n",
              "      <th>MA for 20 days</th>\n",
              "      <th>MA for 30 days</th>\n",
              "      <th>MA for 50 days</th>\n",
              "      <th>Views</th>\n",
              "      <th>Close1</th>\n",
              "    </tr>\n",
              "    <tr>\n",
              "      <th>Date</th>\n",
              "      <th></th>\n",
              "      <th></th>\n",
              "      <th></th>\n",
              "      <th></th>\n",
              "      <th></th>\n",
              "      <th></th>\n",
              "      <th></th>\n",
              "      <th></th>\n",
              "      <th></th>\n",
              "      <th></th>\n",
              "      <th></th>\n",
              "      <th></th>\n",
              "    </tr>\n",
              "  </thead>\n",
              "  <tbody>\n",
              "    <tr>\n",
              "      <th>2020-09-04</th>\n",
              "      <td>2096.949951</td>\n",
              "      <td>2072.199951</td>\n",
              "      <td>2083.550049</td>\n",
              "      <td>2082.649902</td>\n",
              "      <td>13141644.0</td>\n",
              "      <td>2077.250000</td>\n",
              "      <td>0</td>\n",
              "      <td>2108.242542</td>\n",
              "      <td>2111.265031</td>\n",
              "      <td>2015.155608</td>\n",
              "      <td>382</td>\n",
              "      <td>2077.250000</td>\n",
              "    </tr>\n",
              "    <tr>\n",
              "      <th>2020-09-07</th>\n",
              "      <td>2105.750000</td>\n",
              "      <td>2044.250000</td>\n",
              "      <td>2084.000000</td>\n",
              "      <td>2107.100098</td>\n",
              "      <td>10119064.0</td>\n",
              "      <td>2082.649902</td>\n",
              "      <td>100</td>\n",
              "      <td>2106.382532</td>\n",
              "      <td>2108.813363</td>\n",
              "      <td>2022.474524</td>\n",
              "      <td>350</td>\n",
              "      <td>2082.649902</td>\n",
              "    </tr>\n",
              "    <tr>\n",
              "      <th>2020-09-08</th>\n",
              "      <td>2121.000000</td>\n",
              "      <td>2080.500000</td>\n",
              "      <td>2092.000000</td>\n",
              "      <td>2161.350098</td>\n",
              "      <td>12643749.0</td>\n",
              "      <td>2107.100098</td>\n",
              "      <td>0</td>\n",
              "      <td>2105.047534</td>\n",
              "      <td>2106.460034</td>\n",
              "      <td>2030.662019</td>\n",
              "      <td>331</td>\n",
              "      <td>2107.100098</td>\n",
              "    </tr>\n",
              "    <tr>\n",
              "      <th>2020-09-09</th>\n",
              "      <td>2167.800049</td>\n",
              "      <td>2081.449951</td>\n",
              "      <td>2085.000000</td>\n",
              "      <td>2314.000000</td>\n",
              "      <td>25525961.0</td>\n",
              "      <td>2161.350098</td>\n",
              "      <td>0</td>\n",
              "      <td>2106.735034</td>\n",
              "      <td>2108.616707</td>\n",
              "      <td>2039.267021</td>\n",
              "      <td>415</td>\n",
              "      <td>2161.350098</td>\n",
              "    </tr>\n",
              "    <tr>\n",
              "      <th>2020-09-10</th>\n",
              "      <td>2344.949951</td>\n",
              "      <td>2175.350098</td>\n",
              "      <td>2183.100098</td>\n",
              "      <td>2319.750000</td>\n",
              "      <td>64750460.0</td>\n",
              "      <td>2314.000000</td>\n",
              "      <td>0</td>\n",
              "      <td>2116.332532</td>\n",
              "      <td>2115.455037</td>\n",
              "      <td>2050.340022</td>\n",
              "      <td>572</td>\n",
              "      <td>2314.000000</td>\n",
              "    </tr>\n",
              "  </tbody>\n",
              "</table>\n",
              "</div>"
            ],
            "text/plain": [
              "                   High          Low  ...  Views       Close1\n",
              "Date                                  ...                    \n",
              "2020-09-04  2096.949951  2072.199951  ...    382  2077.250000\n",
              "2020-09-07  2105.750000  2044.250000  ...    350  2082.649902\n",
              "2020-09-08  2121.000000  2080.500000  ...    331  2107.100098\n",
              "2020-09-09  2167.800049  2081.449951  ...    415  2161.350098\n",
              "2020-09-10  2344.949951  2175.350098  ...    572  2314.000000\n",
              "\n",
              "[5 rows x 12 columns]"
            ]
          },
          "metadata": {
            "tags": []
          },
          "execution_count": 83
        }
      ]
    },
    {
      "cell_type": "code",
      "metadata": {
        "id": "oXh3q2G2g9Ih"
      },
      "source": [
        "from sklearn.preprocessing import MinMaxScaler\n",
        "scaler = MinMaxScaler()\n",
        "scaled_data = pd.DataFrame(scaler.fit_transform(data))"
      ],
      "execution_count": null,
      "outputs": []
    },
    {
      "cell_type": "code",
      "metadata": {
        "id": "T9G0aKVToJu3"
      },
      "source": [
        "# Train Test Split, Accuracy"
      ],
      "execution_count": null,
      "outputs": []
    },
    {
      "cell_type": "code",
      "metadata": {
        "id": "ruvSQ5QEhA7g"
      },
      "source": [
        "from sklearn.model_selection import train_test_split"
      ],
      "execution_count": null,
      "outputs": []
    },
    {
      "cell_type": "code",
      "metadata": {
        "id": "WgWBlRiShH-J"
      },
      "source": [
        "X_train, X_test, Y_train, Y_test = train_test_split(scaled_data.iloc[:,1:], scaled_data.iloc[:,0], test_size=0.1,shuffle=False)"
      ],
      "execution_count": null,
      "outputs": []
    },
    {
      "cell_type": "code",
      "metadata": {
        "id": "YNIF2m0tnu8U",
        "outputId": "b7013718-c451-4aa0-a6b1-3ca8b1ccc3c2",
        "colab": {
          "base_uri": "https://localhost:8080/",
          "height": 232
        }
      },
      "source": [
        "Y_train"
      ],
      "execution_count": null,
      "outputs": [
        {
          "output_type": "execute_result",
          "data": {
            "text/plain": [
              "0      0.312182\n",
              "1      0.293132\n",
              "2      0.297416\n",
              "3      0.295361\n",
              "4      0.296754\n",
              "         ...   \n",
              "207    0.882183\n",
              "208    0.865362\n",
              "209    0.870690\n",
              "210    0.879292\n",
              "211    0.860765\n",
              "Name: 0, Length: 212, dtype: float64"
            ]
          },
          "metadata": {
            "tags": []
          },
          "execution_count": 239
        }
      ]
    },
    {
      "cell_type": "code",
      "metadata": {
        "id": "GYVFZq1lhJn6",
        "outputId": "0301fe45-e4eb-42e0-932c-87db5e2ab209",
        "colab": {
          "base_uri": "https://localhost:8080/",
          "height": 464
        }
      },
      "source": [
        "#Actual Data \n",
        "Y_test"
      ],
      "execution_count": null,
      "outputs": [
        {
          "output_type": "execute_result",
          "data": {
            "text/plain": [
              "212    0.870481\n",
              "213    0.866163\n",
              "214    0.862297\n",
              "215    0.856551\n",
              "216    0.840914\n",
              "217    0.859859\n",
              "218    0.868914\n",
              "219    0.844884\n",
              "220    0.834297\n",
              "221    0.843979\n",
              "222    0.834471\n",
              "223    0.872919\n",
              "224    0.854322\n",
              "225    0.858188\n",
              "226    0.833496\n",
              "227    0.838058\n",
              "228    0.866581\n",
              "229    0.855367\n",
              "230    0.831093\n",
              "231    0.834854\n",
              "232    0.851884\n",
              "233    0.889671\n",
              "234    0.995995\n",
              "235    1.000000\n",
              "Name: 0, dtype: float64"
            ]
          },
          "metadata": {
            "tags": []
          },
          "execution_count": 240
        }
      ]
    },
    {
      "cell_type": "code",
      "metadata": {
        "id": "HuwNp3gshLPz",
        "outputId": "89b6b48f-70f5-49ba-ffb3-ecea4f488a92",
        "colab": {
          "base_uri": "https://localhost:8080/",
          "height": 106
        }
      },
      "source": [
        "from sklearn.ensemble import RandomForestRegressor\n",
        "clf = RandomForestRegressor()\n",
        "clf.fit(X_train, Y_train)\n",
        "prediction = (clf.predict(X_test))\n",
        "\n",
        "\n",
        "#Predicted Data\n",
        "prediction"
      ],
      "execution_count": null,
      "outputs": [
        {
          "output_type": "execute_result",
          "data": {
            "text/plain": [
              "array([0.84908499, 0.8518004 , 0.84605074, 0.84206108, 0.84247582,\n",
              "       0.83345827, 0.83973256, 0.84613466, 0.83156825, 0.81951281,\n",
              "       0.82524311, 0.82708194, 0.84967196, 0.8414373 , 0.83324583,\n",
              "       0.83639515, 0.82890787, 0.83491839, 0.84448185, 0.84258694,\n",
              "       0.82173855, 0.82273214, 0.84934998, 0.8565489 ])"
            ]
          },
          "metadata": {
            "tags": []
          },
          "execution_count": 241
        }
      ]
    },
    {
      "cell_type": "code",
      "metadata": {
        "id": "lkXrWw-JG6Oc",
        "outputId": "cfb9ce3e-74c3-4b92-e95e-69abe349fc91",
        "colab": {
          "base_uri": "https://localhost:8080/",
          "height": 35
        }
      },
      "source": [
        "len(prediction)"
      ],
      "execution_count": null,
      "outputs": [
        {
          "output_type": "execute_result",
          "data": {
            "text/plain": [
              "24"
            ]
          },
          "metadata": {
            "tags": []
          },
          "execution_count": 242
        }
      ]
    },
    {
      "cell_type": "code",
      "metadata": {
        "id": "q2UFVvPZhSvd",
        "outputId": "d010d1e9-1678-4636-d956-c9d0c224daee",
        "colab": {
          "base_uri": "https://localhost:8080/",
          "height": 625
        }
      },
      "source": [
        "# Plot the data\n",
        "training_data_len=int(len(data)*0.9)\n",
        "train = data[:len(data)-len(prediction)+1]\n",
        "valid = data[len(data)-len(prediction):]\n",
        "valid['Predictions'] = prediction\n",
        "# Visualize the data\n",
        "plt.figure(figsize=(16,8))\n",
        "plt.title('Model')\n",
        "plt.xlabel('Date', fontsize=18)\n",
        "plt.ylabel('Close Price INR (₹)', fontsize=18)\n",
        "plt.plot(train['Close'])\n",
        "plt.plot(valid[['Close', 'Predictions']])\n",
        "plt.legend(['Train', 'Val', 'Predictions'], loc='lower right')\n",
        "plt.show()"
      ],
      "execution_count": null,
      "outputs": [
        {
          "output_type": "stream",
          "text": [
            "/usr/local/lib/python3.6/dist-packages/ipykernel_launcher.py:5: SettingWithCopyWarning: \n",
            "A value is trying to be set on a copy of a slice from a DataFrame.\n",
            "Try using .loc[row_indexer,col_indexer] = value instead\n",
            "\n",
            "See the caveats in the documentation: https://pandas.pydata.org/pandas-docs/stable/user_guide/indexing.html#returning-a-view-versus-a-copy\n",
            "  \"\"\"\n"
          ],
          "name": "stderr"
        },
        {
          "output_type": "display_data",
          "data": {
            "image/png": "[encoded data removed]",
            "text/plain": [
              "<Figure size 1152x576 with 1 Axes>"
            ]
          },
          "metadata": {
            "tags": [],
            "needs_background": "light"
          }
        }
      ]
    },
    {
      "cell_type": "code",
      "metadata": {
        "id": "1Z7inWyQhWgT",
        "outputId": "73ae28ef-ead3-4b79-f39d-1045081f0f11",
        "colab": {
          "base_uri": "https://localhost:8080/",
          "height": 35
        }
      },
      "source": [
        "#MSE ERROR\n",
        "from sklearn.metrics import mean_squared_error\n",
        "mean_squared_error(Y_test, prediction)"
      ],
      "execution_count": null,
      "outputs": [
        {
          "output_type": "execute_result",
          "data": {
            "text/plain": [
              "0.002305698067343617"
            ]
          },
          "metadata": {
            "tags": []
          },
          "execution_count": 244
        }
      ]
    },
    {
      "cell_type": "code",
      "metadata": {
        "id": "IUUosYo1lPhC"
      },
      "source": [
        "#DIRECTIONAL SYMMETRY\n",
        "def directional_symmetry(x,y) :\n",
        "  c = 0\n",
        "  if len(x) < 2 :\n",
        "    return(\"Sorry! Not enough data to calcuate symmetry \")\n",
        "  xp = x[0]\n",
        "  yp = y[0]\n",
        "  for i in range(1, len(x)) :\n",
        "    if (x[i] >= xp and y[i] >= yp) or (x[i] <= xp and y[i] <= yp) :\n",
        "      c+=1\n",
        "    xp = x[i]\n",
        "    yp = y[i]\n",
        "  return c*100/(len(x)-1)\n"
      ],
      "execution_count": null,
      "outputs": []
    },
    {
      "cell_type": "code",
      "metadata": {
        "id": "fpcPgH15WSip",
        "outputId": "36f67de2-716e-4a81-9231-a2468093b2f2",
        "colab": {
          "base_uri": "https://localhost:8080/",
          "height": 35
        }
      },
      "source": [
        "directional_symmetry(list(Y_test), list(prediction))"
      ],
      "execution_count": null,
      "outputs": [
        {
          "output_type": "execute_result",
          "data": {
            "text/plain": [
              "43.47826086956522"
            ]
          },
          "metadata": {
            "tags": []
          },
          "execution_count": 246
        }
      ]
    },
    {
      "cell_type": "code",
      "metadata": {
        "id": "7M5ZTPefXksN"
      },
      "source": [
        "len(prediction)"
      ],
      "execution_count": null,
      "outputs": []
    },
    {
      "cell_type": "code",
      "metadata": {
        "id": "AllN9oqBYmZ5"
      },
      "source": [
        "\n",
        "# Technical Analysis Library in Python"
      ],
      "execution_count": null,
      "outputs": []
    },
    {
      "cell_type": "code",
      "metadata": {
        "id": "91HFL-qzLPXd"
      },
      "source": [
        "from subprocess import check_output\n",
        "from keras.layers.core import Dense, Activation, Dropout\n",
        "from keras.layers.recurrent import LSTM\n",
        "from keras.models import Sequential\n",
        "from sklearn.model_selection import train_test_split\n",
        "\n",
        "from sklearn.preprocessing import MinMaxScaler\n",
        "import matplotlib.pyplot as plt\n",
        "from numpy import newaxis"
      ],
      "execution_count": null,
      "outputs": []
    },
    {
      "cell_type": "code",
      "metadata": {
        "id": "GuS27Rd8DyTK",
        "outputId": "461eec5a-f7a9-4561-eead-210af9803c50",
        "colab": {
          "base_uri": "https://localhost:8080/",
          "height": 402
        }
      },
      "source": [
        "scaled_data"
      ],
      "execution_count": null,
      "outputs": [
        {
          "output_type": "execute_result",
          "data": {
            "text/html": [
              "<div>\n",
              "<style scoped>\n",
              "    .dataframe tbody tr th:only-of-type {\n",
              "        vertical-align: middle;\n",
              "    }\n",
              "\n",
              "    .dataframe tbody tr th {\n",
              "        vertical-align: top;\n",
              "    }\n",
              "\n",
              "    .dataframe thead th {\n",
              "        text-align: right;\n",
              "    }\n",
              "</style>\n",
              "<table border=\"1\" class=\"dataframe\">\n",
              "  <thead>\n",
              "    <tr style=\"text-align: right;\">\n",
              "      <th></th>\n",
              "      <th>0</th>\n",
              "      <th>1</th>\n",
              "      <th>2</th>\n",
              "      <th>3</th>\n",
              "      <th>4</th>\n",
              "      <th>5</th>\n",
              "      <th>6</th>\n",
              "      <th>7</th>\n",
              "      <th>8</th>\n",
              "      <th>9</th>\n",
              "      <th>10</th>\n",
              "      <th>11</th>\n",
              "    </tr>\n",
              "  </thead>\n",
              "  <tbody>\n",
              "    <tr>\n",
              "      <th>0</th>\n",
              "      <td>0.247249</td>\n",
              "      <td>0.308841</td>\n",
              "      <td>0.287118</td>\n",
              "      <td>0.277077</td>\n",
              "      <td>0.004418</td>\n",
              "      <td>0.279359</td>\n",
              "      <td>0.00</td>\n",
              "      <td>NaN</td>\n",
              "      <td>NaN</td>\n",
              "      <td>NaN</td>\n",
              "      <td>0.157518</td>\n",
              "      <td>0.285989</td>\n",
              "    </tr>\n",
              "    <tr>\n",
              "      <th>1</th>\n",
              "      <td>0.248754</td>\n",
              "      <td>0.311110</td>\n",
              "      <td>0.298445</td>\n",
              "      <td>0.263147</td>\n",
              "      <td>0.000000</td>\n",
              "      <td>0.271650</td>\n",
              "      <td>0.00</td>\n",
              "      <td>NaN</td>\n",
              "      <td>NaN</td>\n",
              "      <td>NaN</td>\n",
              "      <td>0.177729</td>\n",
              "      <td>0.278192</td>\n",
              "    </tr>\n",
              "    <tr>\n",
              "      <th>2</th>\n",
              "      <td>0.241156</td>\n",
              "      <td>0.294183</td>\n",
              "      <td>0.288736</td>\n",
              "      <td>0.254197</td>\n",
              "      <td>0.018473</td>\n",
              "      <td>0.257824</td>\n",
              "      <td>0.00</td>\n",
              "      <td>NaN</td>\n",
              "      <td>NaN</td>\n",
              "      <td>NaN</td>\n",
              "      <td>0.193064</td>\n",
              "      <td>0.264205</td>\n",
              "    </tr>\n",
              "    <tr>\n",
              "      <th>3</th>\n",
              "      <td>0.231514</td>\n",
              "      <td>0.282411</td>\n",
              "      <td>0.277843</td>\n",
              "      <td>0.276137</td>\n",
              "      <td>0.051458</td>\n",
              "      <td>0.248941</td>\n",
              "      <td>0.34</td>\n",
              "      <td>NaN</td>\n",
              "      <td>NaN</td>\n",
              "      <td>NaN</td>\n",
              "      <td>0.212331</td>\n",
              "      <td>0.255219</td>\n",
              "    </tr>\n",
              "    <tr>\n",
              "      <th>4</th>\n",
              "      <td>0.239794</td>\n",
              "      <td>0.270562</td>\n",
              "      <td>0.264267</td>\n",
              "      <td>0.271296</td>\n",
              "      <td>0.147224</td>\n",
              "      <td>0.270717</td>\n",
              "      <td>0.34</td>\n",
              "      <td>NaN</td>\n",
              "      <td>NaN</td>\n",
              "      <td>NaN</td>\n",
              "      <td>0.186458</td>\n",
              "      <td>0.277247</td>\n",
              "    </tr>\n",
              "    <tr>\n",
              "      <th>...</th>\n",
              "      <td>...</td>\n",
              "      <td>...</td>\n",
              "      <td>...</td>\n",
              "      <td>...</td>\n",
              "      <td>...</td>\n",
              "      <td>...</td>\n",
              "      <td>...</td>\n",
              "      <td>...</td>\n",
              "      <td>...</td>\n",
              "      <td>...</td>\n",
              "      <td>...</td>\n",
              "      <td>...</td>\n",
              "    </tr>\n",
              "    <tr>\n",
              "      <th>280</th>\n",
              "      <td>0.822216</td>\n",
              "      <td>0.920635</td>\n",
              "      <td>0.921422</td>\n",
              "      <td>0.834854</td>\n",
              "      <td>0.144621</td>\n",
              "      <td>0.834817</td>\n",
              "      <td>0.00</td>\n",
              "      <td>0.990163</td>\n",
              "      <td>0.995828</td>\n",
              "      <td>0.957303</td>\n",
              "      <td>0.008808</td>\n",
              "      <td>0.834435</td>\n",
              "    </tr>\n",
              "    <tr>\n",
              "      <th>281</th>\n",
              "      <td>0.828524</td>\n",
              "      <td>0.899130</td>\n",
              "      <td>0.921777</td>\n",
              "      <td>0.851884</td>\n",
              "      <td>0.094985</td>\n",
              "      <td>0.838584</td>\n",
              "      <td>1.00</td>\n",
              "      <td>0.988421</td>\n",
              "      <td>0.993387</td>\n",
              "      <td>0.966185</td>\n",
              "      <td>0.006291</td>\n",
              "      <td>0.838211</td>\n",
              "    </tr>\n",
              "    <tr>\n",
              "      <th>282</th>\n",
              "      <td>0.839457</td>\n",
              "      <td>0.927022</td>\n",
              "      <td>0.928092</td>\n",
              "      <td>0.889671</td>\n",
              "      <td>0.136444</td>\n",
              "      <td>0.855644</td>\n",
              "      <td>0.00</td>\n",
              "      <td>0.987170</td>\n",
              "      <td>0.991044</td>\n",
              "      <td>0.976120</td>\n",
              "      <td>0.004797</td>\n",
              "      <td>0.855310</td>\n",
              "    </tr>\n",
              "    <tr>\n",
              "      <th>283</th>\n",
              "      <td>0.873006</td>\n",
              "      <td>0.927752</td>\n",
              "      <td>0.922567</td>\n",
              "      <td>0.995995</td>\n",
              "      <td>0.347992</td>\n",
              "      <td>0.893494</td>\n",
              "      <td>0.00</td>\n",
              "      <td>0.988751</td>\n",
              "      <td>0.993191</td>\n",
              "      <td>0.986563</td>\n",
              "      <td>0.011403</td>\n",
              "      <td>0.893248</td>\n",
              "    </tr>\n",
              "    <tr>\n",
              "      <th>284</th>\n",
              "      <td>1.000000</td>\n",
              "      <td>1.000000</td>\n",
              "      <td>1.000000</td>\n",
              "      <td>1.000000</td>\n",
              "      <td>0.992125</td>\n",
              "      <td>1.000000</td>\n",
              "      <td>0.00</td>\n",
              "      <td>0.997742</td>\n",
              "      <td>1.000000</td>\n",
              "      <td>1.000000</td>\n",
              "      <td>0.023750</td>\n",
              "      <td>1.000000</td>\n",
              "    </tr>\n",
              "  </tbody>\n",
              "</table>\n",
              "<p>285 rows × 12 columns</p>\n",
              "</div>"
            ],
            "text/plain": [
              "           0         1         2   ...        9         10        11\n",
              "0    0.247249  0.308841  0.287118  ...       NaN  0.157518  0.285989\n",
              "1    0.248754  0.311110  0.298445  ...       NaN  0.177729  0.278192\n",
              "2    0.241156  0.294183  0.288736  ...       NaN  0.193064  0.264205\n",
              "3    0.231514  0.282411  0.277843  ...       NaN  0.212331  0.255219\n",
              "4    0.239794  0.270562  0.264267  ...       NaN  0.186458  0.277247\n",
              "..        ...       ...       ...  ...       ...       ...       ...\n",
              "280  0.822216  0.920635  0.921422  ...  0.957303  0.008808  0.834435\n",
              "281  0.828524  0.899130  0.921777  ...  0.966185  0.006291  0.838211\n",
              "282  0.839457  0.927022  0.928092  ...  0.976120  0.004797  0.855310\n",
              "283  0.873006  0.927752  0.922567  ...  0.986563  0.011403  0.893248\n",
              "284  1.000000  1.000000  1.000000  ...  1.000000  0.023750  1.000000\n",
              "\n",
              "[285 rows x 12 columns]"
            ]
          },
          "metadata": {
            "tags": []
          },
          "execution_count": 86
        }
      ]
    },
    {
      "cell_type": "code",
      "metadata": {
        "id": "rttjiesaFZ2S",
        "outputId": "cc7e699c-8189-4f36-cede-70b71d8b0832",
        "colab": {
          "base_uri": "https://localhost:8080/",
          "height": 84
        }
      },
      "source": [
        "data.columns"
      ],
      "execution_count": null,
      "outputs": [
        {
          "output_type": "execute_result",
          "data": {
            "text/plain": [
              "Index(['High', 'Low', 'Open', 'Close', 'Volume', 'Adj Close', 'Trend',\n",
              "       'MA for 20 days', 'MA for 30 days', 'MA for 50 days', 'Views',\n",
              "       'Close1'],\n",
              "      dtype='object')"
            ]
          },
          "metadata": {
            "tags": []
          },
          "execution_count": 125
        }
      ]
    },
    {
      "cell_type": "code",
      "metadata": {
        "id": "payjs6YLKpGE",
        "outputId": "4c4a5a5b-37cd-435d-f771-93dce513a49d",
        "colab": {
          "base_uri": "https://localhost:8080/",
          "height": 402
        }
      },
      "source": [
        ""
      ],
      "execution_count": null,
      "outputs": [
        {
          "output_type": "execute_result",
          "data": {
            "text/html": [
              "<div>\n",
              "<style scoped>\n",
              "    .dataframe tbody tr th:only-of-type {\n",
              "        vertical-align: middle;\n",
              "    }\n",
              "\n",
              "    .dataframe tbody tr th {\n",
              "        vertical-align: top;\n",
              "    }\n",
              "\n",
              "    .dataframe thead th {\n",
              "        text-align: right;\n",
              "    }\n",
              "</style>\n",
              "<table border=\"1\" class=\"dataframe\">\n",
              "  <thead>\n",
              "    <tr style=\"text-align: right;\">\n",
              "      <th></th>\n",
              "      <th>0</th>\n",
              "      <th>1</th>\n",
              "      <th>2</th>\n",
              "      <th>3</th>\n",
              "      <th>4</th>\n",
              "      <th>5</th>\n",
              "      <th>6</th>\n",
              "      <th>7</th>\n",
              "      <th>8</th>\n",
              "      <th>9</th>\n",
              "      <th>10</th>\n",
              "      <th>11</th>\n",
              "    </tr>\n",
              "  </thead>\n",
              "  <tbody>\n",
              "    <tr>\n",
              "      <th>0</th>\n",
              "      <td>0.277077</td>\n",
              "      <td>0.247249</td>\n",
              "      <td>0.284388</td>\n",
              "      <td>0.260603</td>\n",
              "      <td>0.004418</td>\n",
              "      <td>0.278242</td>\n",
              "      <td>0.00</td>\n",
              "      <td>NaN</td>\n",
              "      <td>NaN</td>\n",
              "      <td>NaN</td>\n",
              "      <td>0.157518</td>\n",
              "      <td>0.284844</td>\n",
              "    </tr>\n",
              "    <tr>\n",
              "      <th>1</th>\n",
              "      <td>0.263147</td>\n",
              "      <td>0.248754</td>\n",
              "      <td>0.286478</td>\n",
              "      <td>0.270884</td>\n",
              "      <td>0.000000</td>\n",
              "      <td>0.270565</td>\n",
              "      <td>0.00</td>\n",
              "      <td>NaN</td>\n",
              "      <td>NaN</td>\n",
              "      <td>NaN</td>\n",
              "      <td>0.177729</td>\n",
              "      <td>0.277077</td>\n",
              "    </tr>\n",
              "    <tr>\n",
              "      <th>2</th>\n",
              "      <td>0.254197</td>\n",
              "      <td>0.241156</td>\n",
              "      <td>0.270892</td>\n",
              "      <td>0.262072</td>\n",
              "      <td>0.018473</td>\n",
              "      <td>0.256794</td>\n",
              "      <td>0.00</td>\n",
              "      <td>NaN</td>\n",
              "      <td>NaN</td>\n",
              "      <td>NaN</td>\n",
              "      <td>0.193064</td>\n",
              "      <td>0.263147</td>\n",
              "    </tr>\n",
              "    <tr>\n",
              "      <th>3</th>\n",
              "      <td>0.276137</td>\n",
              "      <td>0.231514</td>\n",
              "      <td>0.260052</td>\n",
              "      <td>0.252185</td>\n",
              "      <td>0.051458</td>\n",
              "      <td>0.247946</td>\n",
              "      <td>0.34</td>\n",
              "      <td>NaN</td>\n",
              "      <td>NaN</td>\n",
              "      <td>NaN</td>\n",
              "      <td>0.212331</td>\n",
              "      <td>0.254197</td>\n",
              "    </tr>\n",
              "    <tr>\n",
              "      <th>4</th>\n",
              "      <td>0.271296</td>\n",
              "      <td>0.239794</td>\n",
              "      <td>0.249141</td>\n",
              "      <td>0.239862</td>\n",
              "      <td>0.147224</td>\n",
              "      <td>0.269635</td>\n",
              "      <td>0.34</td>\n",
              "      <td>NaN</td>\n",
              "      <td>NaN</td>\n",
              "      <td>NaN</td>\n",
              "      <td>0.186458</td>\n",
              "      <td>0.276137</td>\n",
              "    </tr>\n",
              "    <tr>\n",
              "      <th>...</th>\n",
              "      <td>...</td>\n",
              "      <td>...</td>\n",
              "      <td>...</td>\n",
              "      <td>...</td>\n",
              "      <td>...</td>\n",
              "      <td>...</td>\n",
              "      <td>...</td>\n",
              "      <td>...</td>\n",
              "      <td>...</td>\n",
              "      <td>...</td>\n",
              "      <td>...</td>\n",
              "      <td>...</td>\n",
              "    </tr>\n",
              "    <tr>\n",
              "      <th>280</th>\n",
              "      <td>0.834854</td>\n",
              "      <td>0.822216</td>\n",
              "      <td>0.847745</td>\n",
              "      <td>0.836330</td>\n",
              "      <td>0.144621</td>\n",
              "      <td>0.831481</td>\n",
              "      <td>0.00</td>\n",
              "      <td>0.982900</td>\n",
              "      <td>0.987547</td>\n",
              "      <td>0.945103</td>\n",
              "      <td>0.008808</td>\n",
              "      <td>0.831093</td>\n",
              "    </tr>\n",
              "    <tr>\n",
              "      <th>281</th>\n",
              "      <td>0.851884</td>\n",
              "      <td>0.828524</td>\n",
              "      <td>0.827943</td>\n",
              "      <td>0.836653</td>\n",
              "      <td>0.094985</td>\n",
              "      <td>0.835234</td>\n",
              "      <td>1.00</td>\n",
              "      <td>0.981170</td>\n",
              "      <td>0.985126</td>\n",
              "      <td>0.953872</td>\n",
              "      <td>0.006291</td>\n",
              "      <td>0.834854</td>\n",
              "    </tr>\n",
              "    <tr>\n",
              "      <th>282</th>\n",
              "      <td>0.889671</td>\n",
              "      <td>0.839457</td>\n",
              "      <td>0.853626</td>\n",
              "      <td>0.842384</td>\n",
              "      <td>0.136444</td>\n",
              "      <td>0.852225</td>\n",
              "      <td>0.00</td>\n",
              "      <td>0.979929</td>\n",
              "      <td>0.982802</td>\n",
              "      <td>0.963681</td>\n",
              "      <td>0.004797</td>\n",
              "      <td>0.851884</td>\n",
              "    </tr>\n",
              "    <tr>\n",
              "      <th>283</th>\n",
              "      <td>0.995995</td>\n",
              "      <td>0.873006</td>\n",
              "      <td>0.854299</td>\n",
              "      <td>0.837369</td>\n",
              "      <td>0.347992</td>\n",
              "      <td>0.889924</td>\n",
              "      <td>0.00</td>\n",
              "      <td>0.981498</td>\n",
              "      <td>0.984932</td>\n",
              "      <td>0.973990</td>\n",
              "      <td>0.011403</td>\n",
              "      <td>0.889671</td>\n",
              "    </tr>\n",
              "    <tr>\n",
              "      <th>284</th>\n",
              "      <td>1.000000</td>\n",
              "      <td>1.000000</td>\n",
              "      <td>0.920826</td>\n",
              "      <td>0.907652</td>\n",
              "      <td>0.992125</td>\n",
              "      <td>0.996004</td>\n",
              "      <td>0.00</td>\n",
              "      <td>0.990424</td>\n",
              "      <td>0.991684</td>\n",
              "      <td>0.987256</td>\n",
              "      <td>0.023750</td>\n",
              "      <td>0.995995</td>\n",
              "    </tr>\n",
              "  </tbody>\n",
              "</table>\n",
              "<p>285 rows × 12 columns</p>\n",
              "</div>"
            ],
            "text/plain": [
              "           0         1         2   ...        9         10        11\n",
              "0    0.277077  0.247249  0.284388  ...       NaN  0.157518  0.284844\n",
              "1    0.263147  0.248754  0.286478  ...       NaN  0.177729  0.277077\n",
              "2    0.254197  0.241156  0.270892  ...       NaN  0.193064  0.263147\n",
              "3    0.276137  0.231514  0.260052  ...       NaN  0.212331  0.254197\n",
              "4    0.271296  0.239794  0.249141  ...       NaN  0.186458  0.276137\n",
              "..        ...       ...       ...  ...       ...       ...       ...\n",
              "280  0.834854  0.822216  0.847745  ...  0.945103  0.008808  0.831093\n",
              "281  0.851884  0.828524  0.827943  ...  0.953872  0.006291  0.834854\n",
              "282  0.889671  0.839457  0.853626  ...  0.963681  0.004797  0.851884\n",
              "283  0.995995  0.873006  0.854299  ...  0.973990  0.011403  0.889671\n",
              "284  1.000000  1.000000  0.920826  ...  0.987256  0.023750  0.995995\n",
              "\n",
              "[285 rows x 12 columns]"
            ]
          },
          "metadata": {
            "tags": []
          },
          "execution_count": 137
        }
      ]
    },
    {
      "cell_type": "code",
      "metadata": {
        "id": "vniNx5cELLop"
      },
      "source": [
        ""
      ],
      "execution_count": null,
      "outputs": []
    },
    {
      "cell_type": "code",
      "metadata": {
        "id": "AKd4O4NrFUyJ",
        "outputId": "504426a5-c366-4b32-f012-b5c2cc4d4322",
        "colab": {
          "base_uri": "https://localhost:8080/",
          "height": 34
        }
      },
      "source": [
        "scaled_data.shape"
      ],
      "execution_count": null,
      "outputs": [
        {
          "output_type": "execute_result",
          "data": {
            "text/plain": [
              "(285, 12)"
            ]
          },
          "metadata": {
            "tags": []
          },
          "execution_count": 138
        }
      ]
    },
    {
      "cell_type": "code",
      "metadata": {
        "id": "1S6dVMbrD5vy"
      },
      "source": [
        "scaled_data = scaled_data.iloc[9:,:]"
      ],
      "execution_count": null,
      "outputs": []
    },
    {
      "cell_type": "code",
      "metadata": {
        "id": "kpBar261MMmx",
        "outputId": "9970f42b-6d39-4f50-f87b-53beabc8bdaf",
        "colab": {
          "base_uri": "https://localhost:8080/",
          "height": 402
        }
      },
      "source": [
        "scaled_data"
      ],
      "execution_count": null,
      "outputs": [
        {
          "output_type": "execute_result",
          "data": {
            "text/html": [
              "<div>\n",
              "<style scoped>\n",
              "    .dataframe tbody tr th:only-of-type {\n",
              "        vertical-align: middle;\n",
              "    }\n",
              "\n",
              "    .dataframe tbody tr th {\n",
              "        vertical-align: top;\n",
              "    }\n",
              "\n",
              "    .dataframe thead th {\n",
              "        text-align: right;\n",
              "    }\n",
              "</style>\n",
              "<table border=\"1\" class=\"dataframe\">\n",
              "  <thead>\n",
              "    <tr style=\"text-align: right;\">\n",
              "      <th></th>\n",
              "      <th>0</th>\n",
              "      <th>1</th>\n",
              "      <th>2</th>\n",
              "      <th>3</th>\n",
              "      <th>4</th>\n",
              "      <th>5</th>\n",
              "      <th>6</th>\n",
              "      <th>7</th>\n",
              "      <th>8</th>\n",
              "      <th>9</th>\n",
              "      <th>10</th>\n",
              "      <th>11</th>\n",
              "    </tr>\n",
              "  </thead>\n",
              "  <tbody>\n",
              "    <tr>\n",
              "      <th>49</th>\n",
              "      <td>0.312182</td>\n",
              "      <td>0.261658</td>\n",
              "      <td>0.289312</td>\n",
              "      <td>0.269594</td>\n",
              "      <td>0.071895</td>\n",
              "      <td>0.294238</td>\n",
              "      <td>1.0</td>\n",
              "      <td>0.164750</td>\n",
              "      <td>0.129057</td>\n",
              "      <td>0.000000</td>\n",
              "      <td>0.206040</td>\n",
              "      <td>0.296023</td>\n",
              "    </tr>\n",
              "    <tr>\n",
              "      <th>50</th>\n",
              "      <td>0.293132</td>\n",
              "      <td>0.276533</td>\n",
              "      <td>0.304580</td>\n",
              "      <td>0.282132</td>\n",
              "      <td>0.118479</td>\n",
              "      <td>0.310300</td>\n",
              "      <td>0.5</td>\n",
              "      <td>0.168943</td>\n",
              "      <td>0.130500</td>\n",
              "      <td>0.001105</td>\n",
              "      <td>0.209107</td>\n",
              "      <td>0.312182</td>\n",
              "    </tr>\n",
              "    <tr>\n",
              "      <th>51</th>\n",
              "      <td>0.297416</td>\n",
              "      <td>0.281014</td>\n",
              "      <td>0.295901</td>\n",
              "      <td>0.301476</td>\n",
              "      <td>0.063349</td>\n",
              "      <td>0.291365</td>\n",
              "      <td>0.0</td>\n",
              "      <td>0.171553</td>\n",
              "      <td>0.131382</td>\n",
              "      <td>0.001823</td>\n",
              "      <td>0.191727</td>\n",
              "      <td>0.293132</td>\n",
              "    </tr>\n",
              "    <tr>\n",
              "      <th>52</th>\n",
              "      <td>0.295361</td>\n",
              "      <td>0.261443</td>\n",
              "      <td>0.287399</td>\n",
              "      <td>0.264938</td>\n",
              "      <td>0.030350</td>\n",
              "      <td>0.295622</td>\n",
              "      <td>0.0</td>\n",
              "      <td>0.176401</td>\n",
              "      <td>0.131987</td>\n",
              "      <td>0.003161</td>\n",
              "      <td>0.200613</td>\n",
              "      <td>0.297416</td>\n",
              "    </tr>\n",
              "    <tr>\n",
              "      <th>53</th>\n",
              "      <td>0.296754</td>\n",
              "      <td>0.271408</td>\n",
              "      <td>0.303376</td>\n",
              "      <td>0.289225</td>\n",
              "      <td>0.041366</td>\n",
              "      <td>0.293580</td>\n",
              "      <td>0.0</td>\n",
              "      <td>0.181356</td>\n",
              "      <td>0.133041</td>\n",
              "      <td>0.004735</td>\n",
              "      <td>0.176313</td>\n",
              "      <td>0.295361</td>\n",
              "    </tr>\n",
              "    <tr>\n",
              "      <th>...</th>\n",
              "      <td>...</td>\n",
              "      <td>...</td>\n",
              "      <td>...</td>\n",
              "      <td>...</td>\n",
              "      <td>...</td>\n",
              "      <td>...</td>\n",
              "      <td>...</td>\n",
              "      <td>...</td>\n",
              "      <td>...</td>\n",
              "      <td>...</td>\n",
              "      <td>...</td>\n",
              "      <td>...</td>\n",
              "    </tr>\n",
              "    <tr>\n",
              "      <th>280</th>\n",
              "      <td>0.834854</td>\n",
              "      <td>0.822216</td>\n",
              "      <td>0.847745</td>\n",
              "      <td>0.836330</td>\n",
              "      <td>0.144621</td>\n",
              "      <td>0.831481</td>\n",
              "      <td>0.0</td>\n",
              "      <td>0.982900</td>\n",
              "      <td>0.987547</td>\n",
              "      <td>0.945103</td>\n",
              "      <td>0.008808</td>\n",
              "      <td>0.831093</td>\n",
              "    </tr>\n",
              "    <tr>\n",
              "      <th>281</th>\n",
              "      <td>0.851884</td>\n",
              "      <td>0.828524</td>\n",
              "      <td>0.827943</td>\n",
              "      <td>0.836653</td>\n",
              "      <td>0.094985</td>\n",
              "      <td>0.835234</td>\n",
              "      <td>1.0</td>\n",
              "      <td>0.981170</td>\n",
              "      <td>0.985126</td>\n",
              "      <td>0.953872</td>\n",
              "      <td>0.006291</td>\n",
              "      <td>0.834854</td>\n",
              "    </tr>\n",
              "    <tr>\n",
              "      <th>282</th>\n",
              "      <td>0.889671</td>\n",
              "      <td>0.839457</td>\n",
              "      <td>0.853626</td>\n",
              "      <td>0.842384</td>\n",
              "      <td>0.136444</td>\n",
              "      <td>0.852225</td>\n",
              "      <td>0.0</td>\n",
              "      <td>0.979929</td>\n",
              "      <td>0.982802</td>\n",
              "      <td>0.963681</td>\n",
              "      <td>0.004797</td>\n",
              "      <td>0.851884</td>\n",
              "    </tr>\n",
              "    <tr>\n",
              "      <th>283</th>\n",
              "      <td>0.995995</td>\n",
              "      <td>0.873006</td>\n",
              "      <td>0.854299</td>\n",
              "      <td>0.837369</td>\n",
              "      <td>0.347992</td>\n",
              "      <td>0.889924</td>\n",
              "      <td>0.0</td>\n",
              "      <td>0.981498</td>\n",
              "      <td>0.984932</td>\n",
              "      <td>0.973990</td>\n",
              "      <td>0.011403</td>\n",
              "      <td>0.889671</td>\n",
              "    </tr>\n",
              "    <tr>\n",
              "      <th>284</th>\n",
              "      <td>1.000000</td>\n",
              "      <td>1.000000</td>\n",
              "      <td>0.920826</td>\n",
              "      <td>0.907652</td>\n",
              "      <td>0.992125</td>\n",
              "      <td>0.996004</td>\n",
              "      <td>0.0</td>\n",
              "      <td>0.990424</td>\n",
              "      <td>0.991684</td>\n",
              "      <td>0.987256</td>\n",
              "      <td>0.023750</td>\n",
              "      <td>0.995995</td>\n",
              "    </tr>\n",
              "  </tbody>\n",
              "</table>\n",
              "<p>236 rows × 12 columns</p>\n",
              "</div>"
            ],
            "text/plain": [
              "           0         1         2   ...        9         10        11\n",
              "49   0.312182  0.261658  0.289312  ...  0.000000  0.206040  0.296023\n",
              "50   0.293132  0.276533  0.304580  ...  0.001105  0.209107  0.312182\n",
              "51   0.297416  0.281014  0.295901  ...  0.001823  0.191727  0.293132\n",
              "52   0.295361  0.261443  0.287399  ...  0.003161  0.200613  0.297416\n",
              "53   0.296754  0.271408  0.303376  ...  0.004735  0.176313  0.295361\n",
              "..        ...       ...       ...  ...       ...       ...       ...\n",
              "280  0.834854  0.822216  0.847745  ...  0.945103  0.008808  0.831093\n",
              "281  0.851884  0.828524  0.827943  ...  0.953872  0.006291  0.834854\n",
              "282  0.889671  0.839457  0.853626  ...  0.963681  0.004797  0.851884\n",
              "283  0.995995  0.873006  0.854299  ...  0.973990  0.011403  0.889671\n",
              "284  1.000000  1.000000  0.920826  ...  0.987256  0.023750  0.995995\n",
              "\n",
              "[236 rows x 12 columns]"
            ]
          },
          "metadata": {
            "tags": []
          },
          "execution_count": 197
        }
      ]
    },
    {
      "cell_type": "code",
      "metadata": {
        "id": "ZygEyZ5kMRQ2"
      },
      "source": [
        "X_train, X_test, Y_train, Y_test = train_test_split(scaled_data.iloc[:,1:], scaled_data.iloc[:,0], test_size=0.1,shuffle=False)"
      ],
      "execution_count": null,
      "outputs": []
    },
    {
      "cell_type": "code",
      "metadata": {
        "id": "xmxVqumlN68S",
        "outputId": "94b77687-14c7-4b39-e51f-2a67bd4785be",
        "colab": {
          "base_uri": "https://localhost:8080/",
          "height": 34
        }
      },
      "source": [
        "X_train.shape"
      ],
      "execution_count": null,
      "outputs": [
        {
          "output_type": "execute_result",
          "data": {
            "text/plain": [
              "(212, 11)"
            ]
          },
          "metadata": {
            "tags": []
          },
          "execution_count": 199
        }
      ]
    },
    {
      "cell_type": "code",
      "metadata": {
        "id": "T2TBe5E4O5Iy",
        "outputId": "f8f8104a-6219-4482-dbd9-1557d548543b",
        "colab": {
          "base_uri": "https://localhost:8080/",
          "height": 34
        }
      },
      "source": [
        "X_test.shape"
      ],
      "execution_count": null,
      "outputs": [
        {
          "output_type": "execute_result",
          "data": {
            "text/plain": [
              "(24, 11)"
            ]
          },
          "metadata": {
            "tags": []
          },
          "execution_count": 200
        }
      ]
    },
    {
      "cell_type": "code",
      "metadata": {
        "id": "3_RufItMO_EH",
        "outputId": "2c8853ca-1d90-4171-9188-21960e0187f2",
        "colab": {
          "base_uri": "https://localhost:8080/",
          "height": 34
        }
      },
      "source": [
        "Y_test.shape"
      ],
      "execution_count": null,
      "outputs": [
        {
          "output_type": "execute_result",
          "data": {
            "text/plain": [
              "(24,)"
            ]
          },
          "metadata": {
            "tags": []
          },
          "execution_count": 201
        }
      ]
    },
    {
      "cell_type": "code",
      "metadata": {
        "id": "56vH9Oy0Pcw5",
        "outputId": "79b6f870-20b4-4b12-9003-fc5e154744f8",
        "colab": {
          "base_uri": "https://localhost:8080/",
          "height": 34
        }
      },
      "source": [
        "X_test.iloc[0].shape"
      ],
      "execution_count": null,
      "outputs": [
        {
          "output_type": "execute_result",
          "data": {
            "text/plain": [
              "(11,)"
            ]
          },
          "metadata": {
            "tags": []
          },
          "execution_count": 202
        }
      ]
    },
    {
      "cell_type": "code",
      "metadata": {
        "id": "rb2mxySHU8xv",
        "outputId": "4d8b94e5-aebd-4a23-e367-f98bb9170acc",
        "colab": {
          "base_uri": "https://localhost:8080/",
          "height": 34
        }
      },
      "source": [
        "X_train.shape"
      ],
      "execution_count": null,
      "outputs": [
        {
          "output_type": "execute_result",
          "data": {
            "text/plain": [
              "(212, 11)"
            ]
          },
          "metadata": {
            "tags": []
          },
          "execution_count": 217
        }
      ]
    },
    {
      "cell_type": "code",
      "metadata": {
        "id": "sXVmjSmQSDKV",
        "outputId": "2d6e1324-e0d8-4d7d-bae9-1514c6062f65",
        "colab": {
          "base_uri": "https://localhost:8080/",
          "height": 840
        }
      },
      "source": [
        "X_Train = np.array(X_train)\n",
        "Y_Train = np.array(Y_train)\n",
        "X_Test = np.array(X_test)\n",
        "Y_Test = np.array(Y_test)\n",
        "X_Train.reshape(212,11,1)"
      ],
      "execution_count": null,
      "outputs": [
        {
          "output_type": "execute_result",
          "data": {
            "text/plain": [
              "array([[[0.26165813],\n",
              "        [0.28931238],\n",
              "        [0.26959449],\n",
              "        ...,\n",
              "        [0.        ],\n",
              "        [0.20603964],\n",
              "        [0.29602289]],\n",
              "\n",
              "       [[0.27653322],\n",
              "        [0.3045804 ],\n",
              "        [0.2821321 ],\n",
              "        ...,\n",
              "        [0.00110535],\n",
              "        [0.20910664],\n",
              "        [0.31218222]],\n",
              "\n",
              "       [[0.28101367],\n",
              "        [0.29590138],\n",
              "        [0.30147585],\n",
              "        ...,\n",
              "        [0.00182253],\n",
              "        [0.19172696],\n",
              "        [0.29313229]],\n",
              "\n",
              "       ...,\n",
              "\n",
              "       [[0.89322201],\n",
              "        [0.88040665],\n",
              "        [0.89754979],\n",
              "        ...,\n",
              "        [0.67771213],\n",
              "        [0.00817867],\n",
              "        [0.86536181]],\n",
              "\n",
              "       [[0.87293451],\n",
              "        [0.87296749],\n",
              "        [0.88895257],\n",
              "        ...,\n",
              "        [0.69370274],\n",
              "        [0.01195344],\n",
              "        [0.87069032]],\n",
              "\n",
              "       [[0.86583755],\n",
              "        [0.88175271],\n",
              "        [0.86946557],\n",
              "        ...,\n",
              "        [0.71017667],\n",
              "        [0.00896508],\n",
              "        [0.8792923 ]]])"
            ]
          },
          "metadata": {
            "tags": []
          },
          "execution_count": 226
        }
      ]
    },
    {
      "cell_type": "code",
      "metadata": {
        "id": "Va_lSV0ZV_90",
        "outputId": "d14e4835-1159-45df-8f14-7936daabdddd",
        "colab": {
          "base_uri": "https://localhost:8080/",
          "height": 1000
        }
      },
      "source": [
        "Y_Train.reshape(212,1)"
      ],
      "execution_count": null,
      "outputs": [
        {
          "output_type": "execute_result",
          "data": {
            "text/plain": [
              "array([[0.31218222],\n",
              "       [0.29313229],\n",
              "       [0.29741593],\n",
              "       [0.29536114],\n",
              "       [0.29675419],\n",
              "       [0.30695828],\n",
              "       [0.33342621],\n",
              "       [0.32635647],\n",
              "       [0.33011772],\n",
              "       [0.33440136],\n",
              "       [0.34011283],\n",
              "       [0.35693391],\n",
              "       [0.3707599 ],\n",
              "       [0.36922758],\n",
              "       [0.35407817],\n",
              "       [0.38476002],\n",
              "       [0.38110327],\n",
              "       [0.40607373],\n",
              "       [0.4144668 ],\n",
              "       [0.40419306],\n",
              "       [0.39900399],\n",
              "       [0.39952639],\n",
              "       [0.39231738],\n",
              "       [0.38368046],\n",
              "       [0.40018805],\n",
              "       [0.3910636 ],\n",
              "       [0.37873515],\n",
              "       [0.40973048],\n",
              "       [0.40307864],\n",
              "       [0.40872047],\n",
              "       [0.40060595],\n",
              "       [0.43581529],\n",
              "       [0.46221358],\n",
              "       [0.45521347],\n",
              "       [0.46141256],\n",
              "       [0.47189528],\n",
              "       [0.47098977],\n",
              "       [0.47767638],\n",
              "       [0.48495511],\n",
              "       [0.46465141],\n",
              "       [0.48927353],\n",
              "       [0.48397996],\n",
              "       [0.46573097],\n",
              "       [0.46444242],\n",
              "       [0.46726338],\n",
              "       [0.47959182],\n",
              "       [0.47217382],\n",
              "       [0.47248731],\n",
              "       [0.4765271 ],\n",
              "       [0.48676606],\n",
              "       [0.47541268],\n",
              "       [0.47269622],\n",
              "       [0.48185553],\n",
              "       [0.50560699],\n",
              "       [0.49804972],\n",
              "       [0.47875603],\n",
              "       [0.4613777 ],\n",
              "       [0.43975067],\n",
              "       [0.45852196],\n",
              "       [0.45981052],\n",
              "       [0.43881038],\n",
              "       [0.43571079],\n",
              "       [0.45361152],\n",
              "       [0.45490007],\n",
              "       [0.43006896],\n",
              "       [0.44615866],\n",
              "       [0.43818349],\n",
              "       [0.46245734],\n",
              "       [0.46221358],\n",
              "       [0.45946225],\n",
              "       [0.44950201],\n",
              "       [0.44563626],\n",
              "       [0.45542246],\n",
              "       [0.48544265],\n",
              "       [0.45155672],\n",
              "       [0.45263637],\n",
              "       [0.45225324],\n",
              "       [0.44772584],\n",
              "       [0.44403431],\n",
              "       [0.43358644],\n",
              "       [0.40934736],\n",
              "       [0.41498919],\n",
              "       [0.38984468],\n",
              "       [0.36748627],\n",
              "       [0.34927214],\n",
              "       [0.37776   ],\n",
              "       [0.39315317],\n",
              "       [0.39963088],\n",
              "       [0.3828098 ],\n",
              "       [0.38416799],\n",
              "       [0.3961134 ],\n",
              "       [0.40833744],\n",
              "       [0.41101904],\n",
              "       [0.42038726],\n",
              "       [0.41387477],\n",
              "       [0.4063175 ],\n",
              "       [0.431671  ],\n",
              "       [0.41923797],\n",
              "       [0.39068048],\n",
              "       [0.37079476],\n",
              "       [0.35379955],\n",
              "       [0.34979453],\n",
              "       [0.30967475],\n",
              "       [0.30096819],\n",
              "       [0.31956536],\n",
              "       [0.31737129],\n",
              "       [0.29748557],\n",
              "       [0.2695201 ],\n",
              "       [0.16027028],\n",
              "       [0.18771335],\n",
              "       [0.12464304],\n",
              "       [0.15410605],\n",
              "       [0.09169745],\n",
              "       [0.0863342 ],\n",
              "       [0.05882149],\n",
              "       [0.02343806],\n",
              "       [0.09326463],\n",
              "       [0.        ],\n",
              "       [0.04133874],\n",
              "       [0.13805113],\n",
              "       [0.12687188],\n",
              "       [0.12645398],\n",
              "       [0.10197114],\n",
              "       [0.15999165],\n",
              "       [0.13679735],\n",
              "       [0.13470778],\n",
              "       [0.22431565],\n",
              "       [0.21459917],\n",
              "       [0.2339625 ],\n",
              "       [0.2125096 ],\n",
              "       [0.18513616],\n",
              "       [0.19781295],\n",
              "       [0.23678346],\n",
              "       [0.25057467],\n",
              "       [0.24608204],\n",
              "       [0.33401824],\n",
              "       [0.3391029 ],\n",
              "       [0.37121265],\n",
              "       [0.38009334],\n",
              "       [0.37897892],\n",
              "       [0.37814304],\n",
              "       [0.39575119],\n",
              "       [0.37450023],\n",
              "       [0.39205967],\n",
              "       [0.3921293 ],\n",
              "       [0.42400923],\n",
              "       [0.46185137],\n",
              "       [0.47220171],\n",
              "       [0.40489656],\n",
              "       [0.42655148],\n",
              "       [0.38441176],\n",
              "       [0.4007453 ],\n",
              "       [0.38775511],\n",
              "       [0.36557082],\n",
              "       [0.38284458],\n",
              "       [0.38810337],\n",
              "       [0.38134712],\n",
              "       [0.37612318],\n",
              "       [0.39109846],\n",
              "       [0.40969562],\n",
              "       [0.40422792],\n",
              "       [0.44319843],\n",
              "       [0.45389006],\n",
              "       [0.45803443],\n",
              "       [0.48460685],\n",
              "       [0.48593018],\n",
              "       [0.47743262],\n",
              "       [0.45490007],\n",
              "       [0.47927842],\n",
              "       [0.45528311],\n",
              "       [0.49087557],\n",
              "       [0.50881107],\n",
              "       [0.51100505],\n",
              "       [0.50936824],\n",
              "       [0.53761234],\n",
              "       [0.6097026 ],\n",
              "       [0.60047366],\n",
              "       [0.58288642],\n",
              "       [0.58772723],\n",
              "       [0.58079684],\n",
              "       [0.5973393 ],\n",
              "       [0.5844536 ],\n",
              "       [0.57118477],\n",
              "       [0.59451834],\n",
              "       [0.61036427],\n",
              "       [0.62955355],\n",
              "       [0.67406147],\n",
              "       [0.65431494],\n",
              "       [0.63658843],\n",
              "       [0.65487219],\n",
              "       [0.69234523],\n",
              "       [0.73201226],\n",
              "       [0.71947482],\n",
              "       [0.66862855],\n",
              "       [0.66821065],\n",
              "       [0.71578321],\n",
              "       [0.72149476],\n",
              "       [0.75747026],\n",
              "       [0.78007244],\n",
              "       [0.81754548],\n",
              "       [0.87908331],\n",
              "       [0.88608341],\n",
              "       [0.90105868],\n",
              "       [0.84460535],\n",
              "       [0.85310309],\n",
              "       [0.82402319],\n",
              "       [0.78355506],\n",
              "       [0.88218298],\n",
              "       [0.86536181],\n",
              "       [0.87069032],\n",
              "       [0.8792923 ],\n",
              "       [0.86076485]])"
            ]
          },
          "metadata": {
            "tags": []
          },
          "execution_count": 231
        }
      ]
    },
    {
      "cell_type": "code",
      "metadata": {
        "id": "g4Yh-DelWio1",
        "outputId": "f8766777-212f-493d-d176-c21f6c53a8e6",
        "colab": {
          "base_uri": "https://localhost:8080/",
          "height": 1000
        }
      },
      "source": [
        "X_Test.reshape(24,11,1)"
      ],
      "execution_count": null,
      "outputs": [
        {
          "output_type": "execute_result",
          "data": {
            "text/plain": [
              "array([[[0.87099899],\n",
              "        [0.87318007],\n",
              "        [0.89045715],\n",
              "        [0.13312431],\n",
              "        [0.86108484],\n",
              "        [0.51      ],\n",
              "        [0.92447868],\n",
              "        [0.84463624],\n",
              "        [0.72467762],\n",
              "        [0.01305442],\n",
              "        [0.86076485]],\n",
              "\n",
              "       [[0.86741463],\n",
              "        [0.86768926],\n",
              "        [0.87304775],\n",
              "        [0.28370599],\n",
              "        [0.87077899],\n",
              "        [0.        ],\n",
              "        [0.93455966],\n",
              "        [0.85898941],\n",
              "        [0.7391464 ],\n",
              "        [0.01195344],\n",
              "        [0.87048133]],\n",
              "\n",
              "       [[0.85666156],\n",
              "        [0.872259  ],\n",
              "        [0.86316091],\n",
              "        [0.1581763 ],\n",
              "        [0.8664705 ],\n",
              "        [0.        ],\n",
              "        [0.94774677],\n",
              "        [0.87204001],\n",
              "        [0.75332459],\n",
              "        [0.00605536],\n",
              "        [0.86616292]],\n",
              "\n",
              "       [[0.85228857],\n",
              "        [0.87452613],\n",
              "        [0.86817596],\n",
              "        [0.11699192],\n",
              "        [0.86261364],\n",
              "        [0.51      ],\n",
              "        [0.96070371],\n",
              "        [0.88394518],\n",
              "        [0.7664591 ],\n",
              "        [0.0084146 ],\n",
              "        [0.86229717]],\n",
              "\n",
              "       [[0.86526402],\n",
              "        [0.85982494],\n",
              "        [0.86427142],\n",
              "        [0.18060912],\n",
              "        [0.85688052],\n",
              "        [0.        ],\n",
              "        [0.97010116],\n",
              "        [0.89467201],\n",
              "        [0.77935057],\n",
              "        [0.00519031],\n",
              "        [0.85655085]],\n",
              "\n",
              "       [[0.8279867 ],\n",
              "        [0.8462574 ],\n",
              "        [0.85169795],\n",
              "        [0.16359083],\n",
              "        [0.84127951],\n",
              "        [0.51      ],\n",
              "        [0.97807341],\n",
              "        [0.90255667],\n",
              "        [0.79199535],\n",
              "        [0.00196603],\n",
              "        [0.84091391]],\n",
              "\n",
              "       [[0.84899107],\n",
              "        [0.85493642],\n",
              "        [0.83736925],\n",
              "        [0.16032147],\n",
              "        [0.8601814 ],\n",
              "        [1.        ],\n",
              "        [0.98490876],\n",
              "        [0.91226974],\n",
              "        [0.80606412],\n",
              "        [0.00857188],\n",
              "        [0.85985934]],\n",
              "\n",
              "       [[0.8631134 ],\n",
              "        [0.88256758],\n",
              "        [0.87748961],\n",
              "        [0.18714876],\n",
              "        [0.86921541],\n",
              "        [0.5       ],\n",
              "        [0.9908397 ],\n",
              "        [0.92324836],\n",
              "        [0.81960887],\n",
              "        [0.0128185 ],\n",
              "        [0.86891415]],\n",
              "\n",
              "       [[0.8415355 ],\n",
              "        [0.85893933],\n",
              "        [0.86244448],\n",
              "        [0.09961813],\n",
              "        [0.84524055],\n",
              "        [0.        ],\n",
              "        [0.99266479],\n",
              "        [0.93222743],\n",
              "        [0.83314934],\n",
              "        [0.00920101],\n",
              "        [0.84488406]],\n",
              "\n",
              "       [[0.84017351],\n",
              "        [0.85114592],\n",
              "        [0.86101161],\n",
              "        [0.12040663],\n",
              "        [0.83467774],\n",
              "        [0.51      ],\n",
              "        [0.98967491],\n",
              "        [0.93893541],\n",
              "        [0.84510577],\n",
              "        [0.00463982],\n",
              "        [0.83429693]],\n",
              "\n",
              "       [[0.82762826],\n",
              "        [0.84654073],\n",
              "        [0.84195436],\n",
              "        [0.1767636 ],\n",
              "        [0.84433711],\n",
              "        [0.        ],\n",
              "        [0.98686405],\n",
              "        [0.94422641],\n",
              "        [0.85678057],\n",
              "        [0.        ],\n",
              "        [0.84397855]],\n",
              "\n",
              "       [[0.83250302],\n",
              "        [0.85185441],\n",
              "        [0.85241438],\n",
              "        [0.07574676],\n",
              "        [0.83485147],\n",
              "        [0.        ],\n",
              "        [0.98241876],\n",
              "        [0.94966059],\n",
              "        [0.8680531 ],\n",
              "        [0.00385341],\n",
              "        [0.83447106]],\n",
              "\n",
              "       [[0.8587763 ],\n",
              "        [0.82989119],\n",
              "        [0.83736925],\n",
              "        [0.38254705],\n",
              "        [0.87321122],\n",
              "        [0.        ],\n",
              "        [0.98430895],\n",
              "        [0.95931441],\n",
              "        [0.88070439],\n",
              "        [0.00448254],\n",
              "        [0.87291917]],\n",
              "\n",
              "       [[0.86024592],\n",
              "        [0.86974382],\n",
              "        [0.88250466],\n",
              "        [0.14165832],\n",
              "        [0.85465679],\n",
              "        [0.48      ],\n",
              "        [0.98439032],\n",
              "        [0.96810916],\n",
              "        [0.89174793],\n",
              "        [0.00385341],\n",
              "        [0.854322  ]],\n",
              "\n",
              "       [[0.84798734],\n",
              "        [0.87186929],\n",
              "        [0.86244448],\n",
              "        [0.13469992],\n",
              "        [0.85851348],\n",
              "        [0.51      ],\n",
              "        [0.98667109],\n",
              "        [0.97483852],\n",
              "        [0.90045374],\n",
              "        [0.003067  ],\n",
              "        [0.85818758]],\n",
              "\n",
              "       [[0.87745084],\n",
              "        [0.83934961],\n",
              "        [0.90113197],\n",
              "        [0.39926326],\n",
              "        [0.83387848],\n",
              "        [0.97      ],\n",
              "        [0.99000506],\n",
              "        [0.98013117],\n",
              "        [0.90862644],\n",
              "        [0.01116703],\n",
              "        [0.83349582]],\n",
              "\n",
              "       [[0.84046019],\n",
              "        [0.84080188],\n",
              "        [0.84811577],\n",
              "        [0.2214701 ],\n",
              "        [0.83843026],\n",
              "        [0.        ],\n",
              "        [0.98705935],\n",
              "        [0.98393937],\n",
              "        [0.91755884],\n",
              "        [0.01140296],\n",
              "        [0.83805809]],\n",
              "\n",
              "       [[0.85164346],\n",
              "        [0.85681385],\n",
              "        [0.84238429],\n",
              "        [0.13305187],\n",
              "        [0.86688735],\n",
              "        [0.57      ],\n",
              "        [0.98714072],\n",
              "        [0.98802735],\n",
              "        [0.92730653],\n",
              "        [0.01045926],\n",
              "        [0.86658073]],\n",
              "\n",
              "       [[0.85218111],\n",
              "        [0.8695667 ],\n",
              "        [0.86817596],\n",
              "        [0.0696719 ],\n",
              "        [0.85569918],\n",
              "        [0.56      ],\n",
              "        [0.98611774],\n",
              "        [0.98981461],\n",
              "        [0.93690598],\n",
              "        [0.00912237],\n",
              "        [0.85536679]],\n",
              "\n",
              "       [[0.82221584],\n",
              "        [0.84774513],\n",
              "        [0.83633045],\n",
              "        [0.14462066],\n",
              "        [0.83148102],\n",
              "        [0.        ],\n",
              "        [0.98290001],\n",
              "        [0.9875468 ],\n",
              "        [0.94510343],\n",
              "        [0.0088078 ],\n",
              "        [0.83109285]],\n",
              "\n",
              "       [[0.82852435],\n",
              "        [0.82794284],\n",
              "        [0.83665281],\n",
              "        [0.09498479],\n",
              "        [0.83523354],\n",
              "        [1.        ],\n",
              "        [0.98117024],\n",
              "        [0.98512594],\n",
              "        [0.9538719 ],\n",
              "        [0.00629129],\n",
              "        [0.83485401]],\n",
              "\n",
              "       [[0.83945664],\n",
              "        [0.85362564],\n",
              "        [0.84238429],\n",
              "        [0.13644438],\n",
              "        [0.85222456],\n",
              "        [0.        ],\n",
              "        [0.97992872],\n",
              "        [0.98280219],\n",
              "        [0.96368097],\n",
              "        [0.00479711],\n",
              "        [0.85188417]],\n",
              "\n",
              "       [[0.87300627],\n",
              "        [0.85429867],\n",
              "        [0.83736925],\n",
              "        [0.34799206],\n",
              "        [0.88992417],\n",
              "        [0.        ],\n",
              "        [0.98149806],\n",
              "        [0.98493176],\n",
              "        [0.97399023],\n",
              "        [0.01140296],\n",
              "        [0.88967061]],\n",
              "\n",
              "       [[1.        ],\n",
              "        [0.9208261 ],\n",
              "        [0.9076516 ],\n",
              "        [0.99212457],\n",
              "        [0.99600419],\n",
              "        [0.        ],\n",
              "        [0.99042354],\n",
              "        [0.99168416],\n",
              "        [0.98725629],\n",
              "        [0.02374961],\n",
              "        [0.99599499]]])"
            ]
          },
          "metadata": {
            "tags": []
          },
          "execution_count": 233
        }
      ]
    },
    {
      "cell_type": "code",
      "metadata": {
        "id": "vCQpE_V-WpzY",
        "outputId": "d2ae962f-1f7e-4c03-be62-319caf7a7915",
        "colab": {
          "base_uri": "https://localhost:8080/",
          "height": 34
        }
      },
      "source": [
        "Y_Train.shape"
      ],
      "execution_count": null,
      "outputs": [
        {
          "output_type": "execute_result",
          "data": {
            "text/plain": [
              "(212,)"
            ]
          },
          "metadata": {
            "tags": []
          },
          "execution_count": 281
        }
      ]
    },
    {
      "cell_type": "code",
      "metadata": {
        "id": "YzW6_HSgXEEz"
      },
      "source": [
        "X_Test = X_Test.reshape(24, 11, 1)"
      ],
      "execution_count": null,
      "outputs": []
    },
    {
      "cell_type": "code",
      "metadata": {
        "id": "XeTZ9jf4PDXM"
      },
      "source": [
        "model = Sequential()\n",
        "\n",
        "model.add(LSTM(\n",
        "    64,\n",
        "    input_shape = (11, 1),\n",
        "    return_sequences=True))\n",
        "\n",
        "\n",
        "model.add(LSTM(\n",
        "    128,\n",
        "    return_sequences=False))\n",
        "model.add(Dropout(0.2))\n",
        "\n",
        "model.add(Dense(64))\n",
        "model.add(Dense(32))\n",
        "model.add(Dense(16))\n",
        "model.add(Dense(4))\n",
        "model.add(Dense(1, activation='linear'))\n",
        "# model.add(Activation('linear'))\n",
        "\n",
        "model.compile(loss='mse', optimizer='adam')"
      ],
      "execution_count": null,
      "outputs": []
    },
    {
      "cell_type": "code",
      "metadata": {
        "id": "YlQoC8-JiOcU",
        "outputId": "49d7a3a8-78a5-46ba-d302-fa6d5bdaa520",
        "colab": {
          "base_uri": "https://localhost:8080/",
          "height": 34
        }
      },
      "source": [
        "X_Train.shape"
      ],
      "execution_count": null,
      "outputs": [
        {
          "output_type": "execute_result",
          "data": {
            "text/plain": [
              "(212, 11, 1)"
            ]
          },
          "metadata": {
            "tags": []
          },
          "execution_count": 319
        }
      ]
    },
    {
      "cell_type": "code",
      "metadata": {
        "id": "E5JcjZM2Mdch",
        "outputId": "44362a86-e9e5-4f6f-a304-268f629462ab",
        "colab": {
          "base_uri": "https://localhost:8080/",
          "height": 370
        }
      },
      "source": [
        "model.fit(\n",
        "    X_Train,\n",
        "    Y_Train,\n",
        "    batch_size=16,\n",
        "    epochs=10,\n",
        "    validation_split=0.05)"
      ],
      "execution_count": null,
      "outputs": [
        {
          "output_type": "stream",
          "text": [
            "Epoch 1/10\n",
            "13/13 [==============================] - 1s 76ms/step - loss: 0.0384 - val_loss: 0.0890\n",
            "Epoch 2/10\n",
            "13/13 [==============================] - 0s 18ms/step - loss: 0.0119 - val_loss: 0.0681\n",
            "Epoch 3/10\n",
            "13/13 [==============================] - 0s 19ms/step - loss: 0.0087 - val_loss: 0.0076\n",
            "Epoch 4/10\n",
            "13/13 [==============================] - 0s 21ms/step - loss: 0.0078 - val_loss: 0.0031\n",
            "Epoch 5/10\n",
            "13/13 [==============================] - 0s 21ms/step - loss: 0.0084 - val_loss: 0.0073\n",
            "Epoch 6/10\n",
            "13/13 [==============================] - 0s 18ms/step - loss: 0.0083 - val_loss: 0.0028\n",
            "Epoch 7/10\n",
            "13/13 [==============================] - 0s 19ms/step - loss: 0.0083 - val_loss: 0.0029\n",
            "Epoch 8/10\n",
            "13/13 [==============================] - 0s 20ms/step - loss: 0.0091 - val_loss: 0.0034\n",
            "Epoch 9/10\n",
            "13/13 [==============================] - 0s 18ms/step - loss: 0.0065 - val_loss: 0.0048\n",
            "Epoch 10/10\n",
            "13/13 [==============================] - 0s 18ms/step - loss: 0.0062 - val_loss: 0.0041\n"
          ],
          "name": "stdout"
        },
        {
          "output_type": "execute_result",
          "data": {
            "text/plain": [
              "<tensorflow.python.keras.callbacks.History at 0x7fbaa4e055f8>"
            ]
          },
          "metadata": {
            "tags": []
          },
          "execution_count": 320
        }
      ]
    },
    {
      "cell_type": "code",
      "metadata": {
        "id": "-p0G2_bwMfKV"
      },
      "source": [
        "predicted_value = model.predict(X_Test)"
      ],
      "execution_count": null,
      "outputs": []
    },
    {
      "cell_type": "code",
      "metadata": {
        "id": "t_y0LJX9MrLL",
        "outputId": "41affe47-ba85-4b0f-e24e-5203f9e502f6",
        "colab": {
          "base_uri": "https://localhost:8080/",
          "height": 420
        }
      },
      "source": [
        "predicted_value"
      ],
      "execution_count": null,
      "outputs": [
        {
          "output_type": "execute_result",
          "data": {
            "text/plain": [
              "array([[0.92308646],\n",
              "       [0.8762218 ],\n",
              "       [0.8604323 ],\n",
              "       [0.92985535],\n",
              "       [0.86980456],\n",
              "       [0.93023825],\n",
              "       [1.0060929 ],\n",
              "       [0.9578067 ],\n",
              "       [0.86698306],\n",
              "       [0.9383256 ],\n",
              "       [0.87392193],\n",
              "       [0.8624597 ],\n",
              "       [0.9133123 ],\n",
              "       [0.95637083],\n",
              "       [0.9583997 ],\n",
              "       [1.0593498 ],\n",
              "       [0.8930686 ],\n",
              "       [0.96906334],\n",
              "       [0.96298426],\n",
              "       [0.8808898 ],\n",
              "       [1.010503  ],\n",
              "       [0.8880604 ],\n",
              "       [0.9299982 ],\n",
              "       [1.0747014 ]], dtype=float32)"
            ]
          },
          "metadata": {
            "tags": []
          },
          "execution_count": 323
        }
      ]
    },
    {
      "cell_type": "code",
      "metadata": {
        "id": "DLYF7JpqM94c",
        "outputId": "b129cc98-9495-42e7-b80a-a0b659f32528",
        "colab": {
          "base_uri": "https://localhost:8080/",
          "height": 101
        }
      },
      "source": [
        "Y_Test"
      ],
      "execution_count": null,
      "outputs": [
        {
          "output_type": "execute_result",
          "data": {
            "text/plain": [
              "array([0.87048133, 0.86616292, 0.86229717, 0.85655085, 0.84091391,\n",
              "       0.85985934, 0.86891415, 0.84488406, 0.83429693, 0.84397855,\n",
              "       0.83447106, 0.87291917, 0.854322  , 0.85818758, 0.83349582,\n",
              "       0.83805809, 0.86658073, 0.85536679, 0.83109285, 0.83485401,\n",
              "       0.85188417, 0.88967061, 0.99599499, 1.        ])"
            ]
          },
          "metadata": {
            "tags": []
          },
          "execution_count": 324
        }
      ]
    },
    {
      "cell_type": "code",
      "metadata": {
        "id": "98US3QGlISYm"
      },
      "source": [
        ""
      ],
      "execution_count": null,
      "outputs": []
    },
    {
      "cell_type": "code",
      "metadata": {
        "id": "1_NNgRoNk1sj"
      },
      "source": [
        "def directional_symmetry(x,y) :\n",
        "  c = 0\n",
        "  if len(x) < 2 :\n",
        "    return(\"Sorry! Not enough data to calcuate symmetry \")\n",
        "  xp = x[0]\n",
        "  yp = y[0]\n",
        "  for i in range(1, len(x)) :\n",
        "    if (x[i] >= xp and y[i] >= yp) or (x[i] <= xp and y[i] <= yp) :\n",
        "      c+=1\n",
        "    xp = x[i]\n",
        "    yp = y[i]\n",
        "  return c*100/(len(x)-1)"
      ],
      "execution_count": null,
      "outputs": []
    },
    {
      "cell_type": "code",
      "metadata": {
        "id": "bd2qweGVk_1A",
        "outputId": "7ec9c9de-2bcf-4a28-f7b4-6a9337af3d79",
        "colab": {
          "base_uri": "https://localhost:8080/",
          "height": 34
        }
      },
      "source": [
        "directional_symmetry(Y_Test, predicted_value)"
      ],
      "execution_count": null,
      "outputs": [
        {
          "output_type": "execute_result",
          "data": {
            "text/plain": [
              "65.21739130434783"
            ]
          },
          "metadata": {
            "tags": []
          },
          "execution_count": 326
        }
      ]
    },
    {
      "cell_type": "code",
      "metadata": {
        "id": "URs5xD1ilGOW",
        "outputId": "5c3b6fbd-b3e4-4257-f576-923802aa29d8",
        "colab": {
          "base_uri": "https://localhost:8080/",
          "height": 34
        }
      },
      "source": [
        "from sklearn.metrics import mean_squared_error\n",
        "mean_squared_error(Y_Test, predicted_value)"
      ],
      "execution_count": null,
      "outputs": [
        {
          "output_type": "execute_result",
          "data": {
            "text/plain": [
              "0.008465449575016487"
            ]
          },
          "metadata": {
            "tags": []
          },
          "execution_count": 329
        }
      ]
    },
    {
      "cell_type": "code",
      "metadata": {
        "id": "E-42UZG5lbzS"
      },
      "source": [
        ""
      ],
      "execution_count": null,
      "outputs": []
    }
  ]
}